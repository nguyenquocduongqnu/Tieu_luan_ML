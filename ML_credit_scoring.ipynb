{
  "cells": [
    {
      "cell_type": "markdown",
      "metadata": {
        "id": "508DZZaYOenD"
      },
      "source": [
        "# Import necessary libraries"
      ]
    },
    {
      "cell_type": "code",
      "execution_count": 1,
      "metadata": {
        "id": "_y-NPcoROenL"
      },
      "outputs": [],
      "source": [
        "import numpy as np\n",
        "import pandas as pd\n",
        "import matplotlib.pyplot as plt\n",
        "import seaborn as sns\n",
        "import warnings\n",
        "warnings.filterwarnings(\"ignore\")\n",
        "%matplotlib inline"
      ]
    },
    {
      "cell_type": "markdown",
      "metadata": {
        "id": "UbN54JALOenX"
      },
      "source": [
        "# Read the data files"
      ]
    },
    {
      "cell_type": "code",
      "execution_count": 2,
      "metadata": {
        "colab": {
          "base_uri": "https://localhost:8080/"
        },
        "id": "xlMpb6cLgH62",
        "outputId": "6ef88524-786c-4d48-b135-79f99f965071"
      },
      "outputs": [
        {
          "output_type": "stream",
          "name": "stdout",
          "text": [
            "Looking in indexes: https://pypi.org/simple, https://us-python.pkg.dev/colab-wheels/public/simple/\n",
            "Requirement already satisfied: kaggle in /usr/local/lib/python3.7/dist-packages (1.5.12)\n",
            "Requirement already satisfied: tqdm in /usr/local/lib/python3.7/dist-packages (from kaggle) (4.64.1)\n",
            "Requirement already satisfied: urllib3 in /usr/local/lib/python3.7/dist-packages (from kaggle) (1.24.3)\n",
            "Requirement already satisfied: six>=1.10 in /usr/local/lib/python3.7/dist-packages (from kaggle) (1.15.0)\n",
            "Requirement already satisfied: requests in /usr/local/lib/python3.7/dist-packages (from kaggle) (2.23.0)\n",
            "Requirement already satisfied: python-dateutil in /usr/local/lib/python3.7/dist-packages (from kaggle) (2.8.2)\n",
            "Requirement already satisfied: python-slugify in /usr/local/lib/python3.7/dist-packages (from kaggle) (6.1.2)\n",
            "Requirement already satisfied: certifi in /usr/local/lib/python3.7/dist-packages (from kaggle) (2022.6.15)\n",
            "Requirement already satisfied: text-unidecode>=1.3 in /usr/local/lib/python3.7/dist-packages (from python-slugify->kaggle) (1.3)\n",
            "Requirement already satisfied: idna<3,>=2.5 in /usr/local/lib/python3.7/dist-packages (from requests->kaggle) (2.10)\n",
            "Requirement already satisfied: chardet<4,>=3.0.2 in /usr/local/lib/python3.7/dist-packages (from requests->kaggle) (3.0.4)\n",
            "Downloading home-credit-default-risk.zip to /content\n",
            " 99% 681M/688M [00:27<00:00, 25.6MB/s]\n",
            "100% 688M/688M [00:27<00:00, 26.5MB/s]\n"
          ]
        }
      ],
      "source": [
        "!pip install kaggle\n",
        "!mkdir ~/.kaggle\n",
        "!cp kaggle.json ~/.kaggle/\n",
        "!chmod 600 ~/.kaggle/kaggle.json\n",
        "!kaggle competitions download -c home-credit-default-risk"
      ]
    },
    {
      "cell_type": "code",
      "execution_count": 3,
      "metadata": {
        "colab": {
          "base_uri": "https://localhost:8080/"
        },
        "id": "bAQBn94ngH62",
        "outputId": "f095a609-c091-453d-dae4-08f3d2b565b3"
      },
      "outputs": [
        {
          "output_type": "stream",
          "name": "stdout",
          "text": [
            "Archive:  /content/home-credit-default-risk.zip\n",
            "  inflating: data/HomeCredit_columns_description.csv  \n",
            "  inflating: data/POS_CASH_balance.csv  \n",
            "  inflating: data/application_test.csv  \n",
            "  inflating: data/application_train.csv  \n",
            "  inflating: data/bureau.csv         \n",
            "  inflating: data/bureau_balance.csv  \n",
            "  inflating: data/credit_card_balance.csv  \n",
            "  inflating: data/installments_payments.csv  \n",
            "  inflating: data/previous_application.csv  \n",
            "  inflating: data/sample_submission.csv  \n"
          ]
        }
      ],
      "source": [
        "!unzip /content/home-credit-default-risk.zip -d data"
      ]
    },
    {
      "cell_type": "code",
      "execution_count": 4,
      "metadata": {
        "id": "EdDkLj_AOenb"
      },
      "outputs": [],
      "source": [
        "train = pd.read_csv(\"data/application_train.csv\")\n",
        "test = pd.read_csv(\"data/application_test.csv\")"
      ]
    },
    {
      "cell_type": "code",
      "execution_count": 5,
      "metadata": {
        "colab": {
          "base_uri": "https://localhost:8080/",
          "height": 300
        },
        "id": "gy_oICVgOeng",
        "outputId": "0b03aca1-a201-450b-c170-b23c1c896a24"
      },
      "outputs": [
        {
          "output_type": "execute_result",
          "data": {
            "text/plain": [
              "   SK_ID_CURR  TARGET NAME_CONTRACT_TYPE CODE_GENDER FLAG_OWN_CAR  \\\n",
              "0      100002       1         Cash loans           M            N   \n",
              "1      100003       0         Cash loans           F            N   \n",
              "2      100004       0    Revolving loans           M            Y   \n",
              "3      100006       0         Cash loans           F            N   \n",
              "4      100007       0         Cash loans           M            N   \n",
              "\n",
              "  FLAG_OWN_REALTY  CNT_CHILDREN  AMT_INCOME_TOTAL  AMT_CREDIT  AMT_ANNUITY  \\\n",
              "0               Y             0          202500.0    406597.5      24700.5   \n",
              "1               N             0          270000.0   1293502.5      35698.5   \n",
              "2               Y             0           67500.0    135000.0       6750.0   \n",
              "3               Y             0          135000.0    312682.5      29686.5   \n",
              "4               Y             0          121500.0    513000.0      21865.5   \n",
              "\n",
              "   ...  FLAG_DOCUMENT_18 FLAG_DOCUMENT_19 FLAG_DOCUMENT_20 FLAG_DOCUMENT_21  \\\n",
              "0  ...                 0                0                0                0   \n",
              "1  ...                 0                0                0                0   \n",
              "2  ...                 0                0                0                0   \n",
              "3  ...                 0                0                0                0   \n",
              "4  ...                 0                0                0                0   \n",
              "\n",
              "  AMT_REQ_CREDIT_BUREAU_HOUR AMT_REQ_CREDIT_BUREAU_DAY  \\\n",
              "0                        0.0                       0.0   \n",
              "1                        0.0                       0.0   \n",
              "2                        0.0                       0.0   \n",
              "3                        NaN                       NaN   \n",
              "4                        0.0                       0.0   \n",
              "\n",
              "   AMT_REQ_CREDIT_BUREAU_WEEK  AMT_REQ_CREDIT_BUREAU_MON  \\\n",
              "0                         0.0                        0.0   \n",
              "1                         0.0                        0.0   \n",
              "2                         0.0                        0.0   \n",
              "3                         NaN                        NaN   \n",
              "4                         0.0                        0.0   \n",
              "\n",
              "   AMT_REQ_CREDIT_BUREAU_QRT  AMT_REQ_CREDIT_BUREAU_YEAR  \n",
              "0                        0.0                         1.0  \n",
              "1                        0.0                         0.0  \n",
              "2                        0.0                         0.0  \n",
              "3                        NaN                         NaN  \n",
              "4                        0.0                         0.0  \n",
              "\n",
              "[5 rows x 122 columns]"
            ],
            "text/html": [
              "\n",
              "  <div id=\"df-5074f309-c06a-4252-99ff-a984bb717cc4\">\n",
              "    <div class=\"colab-df-container\">\n",
              "      <div>\n",
              "<style scoped>\n",
              "    .dataframe tbody tr th:only-of-type {\n",
              "        vertical-align: middle;\n",
              "    }\n",
              "\n",
              "    .dataframe tbody tr th {\n",
              "        vertical-align: top;\n",
              "    }\n",
              "\n",
              "    .dataframe thead th {\n",
              "        text-align: right;\n",
              "    }\n",
              "</style>\n",
              "<table border=\"1\" class=\"dataframe\">\n",
              "  <thead>\n",
              "    <tr style=\"text-align: right;\">\n",
              "      <th></th>\n",
              "      <th>SK_ID_CURR</th>\n",
              "      <th>TARGET</th>\n",
              "      <th>NAME_CONTRACT_TYPE</th>\n",
              "      <th>CODE_GENDER</th>\n",
              "      <th>FLAG_OWN_CAR</th>\n",
              "      <th>FLAG_OWN_REALTY</th>\n",
              "      <th>CNT_CHILDREN</th>\n",
              "      <th>AMT_INCOME_TOTAL</th>\n",
              "      <th>AMT_CREDIT</th>\n",
              "      <th>AMT_ANNUITY</th>\n",
              "      <th>...</th>\n",
              "      <th>FLAG_DOCUMENT_18</th>\n",
              "      <th>FLAG_DOCUMENT_19</th>\n",
              "      <th>FLAG_DOCUMENT_20</th>\n",
              "      <th>FLAG_DOCUMENT_21</th>\n",
              "      <th>AMT_REQ_CREDIT_BUREAU_HOUR</th>\n",
              "      <th>AMT_REQ_CREDIT_BUREAU_DAY</th>\n",
              "      <th>AMT_REQ_CREDIT_BUREAU_WEEK</th>\n",
              "      <th>AMT_REQ_CREDIT_BUREAU_MON</th>\n",
              "      <th>AMT_REQ_CREDIT_BUREAU_QRT</th>\n",
              "      <th>AMT_REQ_CREDIT_BUREAU_YEAR</th>\n",
              "    </tr>\n",
              "  </thead>\n",
              "  <tbody>\n",
              "    <tr>\n",
              "      <th>0</th>\n",
              "      <td>100002</td>\n",
              "      <td>1</td>\n",
              "      <td>Cash loans</td>\n",
              "      <td>M</td>\n",
              "      <td>N</td>\n",
              "      <td>Y</td>\n",
              "      <td>0</td>\n",
              "      <td>202500.0</td>\n",
              "      <td>406597.5</td>\n",
              "      <td>24700.5</td>\n",
              "      <td>...</td>\n",
              "      <td>0</td>\n",
              "      <td>0</td>\n",
              "      <td>0</td>\n",
              "      <td>0</td>\n",
              "      <td>0.0</td>\n",
              "      <td>0.0</td>\n",
              "      <td>0.0</td>\n",
              "      <td>0.0</td>\n",
              "      <td>0.0</td>\n",
              "      <td>1.0</td>\n",
              "    </tr>\n",
              "    <tr>\n",
              "      <th>1</th>\n",
              "      <td>100003</td>\n",
              "      <td>0</td>\n",
              "      <td>Cash loans</td>\n",
              "      <td>F</td>\n",
              "      <td>N</td>\n",
              "      <td>N</td>\n",
              "      <td>0</td>\n",
              "      <td>270000.0</td>\n",
              "      <td>1293502.5</td>\n",
              "      <td>35698.5</td>\n",
              "      <td>...</td>\n",
              "      <td>0</td>\n",
              "      <td>0</td>\n",
              "      <td>0</td>\n",
              "      <td>0</td>\n",
              "      <td>0.0</td>\n",
              "      <td>0.0</td>\n",
              "      <td>0.0</td>\n",
              "      <td>0.0</td>\n",
              "      <td>0.0</td>\n",
              "      <td>0.0</td>\n",
              "    </tr>\n",
              "    <tr>\n",
              "      <th>2</th>\n",
              "      <td>100004</td>\n",
              "      <td>0</td>\n",
              "      <td>Revolving loans</td>\n",
              "      <td>M</td>\n",
              "      <td>Y</td>\n",
              "      <td>Y</td>\n",
              "      <td>0</td>\n",
              "      <td>67500.0</td>\n",
              "      <td>135000.0</td>\n",
              "      <td>6750.0</td>\n",
              "      <td>...</td>\n",
              "      <td>0</td>\n",
              "      <td>0</td>\n",
              "      <td>0</td>\n",
              "      <td>0</td>\n",
              "      <td>0.0</td>\n",
              "      <td>0.0</td>\n",
              "      <td>0.0</td>\n",
              "      <td>0.0</td>\n",
              "      <td>0.0</td>\n",
              "      <td>0.0</td>\n",
              "    </tr>\n",
              "    <tr>\n",
              "      <th>3</th>\n",
              "      <td>100006</td>\n",
              "      <td>0</td>\n",
              "      <td>Cash loans</td>\n",
              "      <td>F</td>\n",
              "      <td>N</td>\n",
              "      <td>Y</td>\n",
              "      <td>0</td>\n",
              "      <td>135000.0</td>\n",
              "      <td>312682.5</td>\n",
              "      <td>29686.5</td>\n",
              "      <td>...</td>\n",
              "      <td>0</td>\n",
              "      <td>0</td>\n",
              "      <td>0</td>\n",
              "      <td>0</td>\n",
              "      <td>NaN</td>\n",
              "      <td>NaN</td>\n",
              "      <td>NaN</td>\n",
              "      <td>NaN</td>\n",
              "      <td>NaN</td>\n",
              "      <td>NaN</td>\n",
              "    </tr>\n",
              "    <tr>\n",
              "      <th>4</th>\n",
              "      <td>100007</td>\n",
              "      <td>0</td>\n",
              "      <td>Cash loans</td>\n",
              "      <td>M</td>\n",
              "      <td>N</td>\n",
              "      <td>Y</td>\n",
              "      <td>0</td>\n",
              "      <td>121500.0</td>\n",
              "      <td>513000.0</td>\n",
              "      <td>21865.5</td>\n",
              "      <td>...</td>\n",
              "      <td>0</td>\n",
              "      <td>0</td>\n",
              "      <td>0</td>\n",
              "      <td>0</td>\n",
              "      <td>0.0</td>\n",
              "      <td>0.0</td>\n",
              "      <td>0.0</td>\n",
              "      <td>0.0</td>\n",
              "      <td>0.0</td>\n",
              "      <td>0.0</td>\n",
              "    </tr>\n",
              "  </tbody>\n",
              "</table>\n",
              "<p>5 rows × 122 columns</p>\n",
              "</div>\n",
              "      <button class=\"colab-df-convert\" onclick=\"convertToInteractive('df-5074f309-c06a-4252-99ff-a984bb717cc4')\"\n",
              "              title=\"Convert this dataframe to an interactive table.\"\n",
              "              style=\"display:none;\">\n",
              "        \n",
              "  <svg xmlns=\"http://www.w3.org/2000/svg\" height=\"24px\"viewBox=\"0 0 24 24\"\n",
              "       width=\"24px\">\n",
              "    <path d=\"M0 0h24v24H0V0z\" fill=\"none\"/>\n",
              "    <path d=\"M18.56 5.44l.94 2.06.94-2.06 2.06-.94-2.06-.94-.94-2.06-.94 2.06-2.06.94zm-11 1L8.5 8.5l.94-2.06 2.06-.94-2.06-.94L8.5 2.5l-.94 2.06-2.06.94zm10 10l.94 2.06.94-2.06 2.06-.94-2.06-.94-.94-2.06-.94 2.06-2.06.94z\"/><path d=\"M17.41 7.96l-1.37-1.37c-.4-.4-.92-.59-1.43-.59-.52 0-1.04.2-1.43.59L10.3 9.45l-7.72 7.72c-.78.78-.78 2.05 0 2.83L4 21.41c.39.39.9.59 1.41.59.51 0 1.02-.2 1.41-.59l7.78-7.78 2.81-2.81c.8-.78.8-2.07 0-2.86zM5.41 20L4 18.59l7.72-7.72 1.47 1.35L5.41 20z\"/>\n",
              "  </svg>\n",
              "      </button>\n",
              "      \n",
              "  <style>\n",
              "    .colab-df-container {\n",
              "      display:flex;\n",
              "      flex-wrap:wrap;\n",
              "      gap: 12px;\n",
              "    }\n",
              "\n",
              "    .colab-df-convert {\n",
              "      background-color: #E8F0FE;\n",
              "      border: none;\n",
              "      border-radius: 50%;\n",
              "      cursor: pointer;\n",
              "      display: none;\n",
              "      fill: #1967D2;\n",
              "      height: 32px;\n",
              "      padding: 0 0 0 0;\n",
              "      width: 32px;\n",
              "    }\n",
              "\n",
              "    .colab-df-convert:hover {\n",
              "      background-color: #E2EBFA;\n",
              "      box-shadow: 0px 1px 2px rgba(60, 64, 67, 0.3), 0px 1px 3px 1px rgba(60, 64, 67, 0.15);\n",
              "      fill: #174EA6;\n",
              "    }\n",
              "\n",
              "    [theme=dark] .colab-df-convert {\n",
              "      background-color: #3B4455;\n",
              "      fill: #D2E3FC;\n",
              "    }\n",
              "\n",
              "    [theme=dark] .colab-df-convert:hover {\n",
              "      background-color: #434B5C;\n",
              "      box-shadow: 0px 1px 3px 1px rgba(0, 0, 0, 0.15);\n",
              "      filter: drop-shadow(0px 1px 2px rgba(0, 0, 0, 0.3));\n",
              "      fill: #FFFFFF;\n",
              "    }\n",
              "  </style>\n",
              "\n",
              "      <script>\n",
              "        const buttonEl =\n",
              "          document.querySelector('#df-5074f309-c06a-4252-99ff-a984bb717cc4 button.colab-df-convert');\n",
              "        buttonEl.style.display =\n",
              "          google.colab.kernel.accessAllowed ? 'block' : 'none';\n",
              "\n",
              "        async function convertToInteractive(key) {\n",
              "          const element = document.querySelector('#df-5074f309-c06a-4252-99ff-a984bb717cc4');\n",
              "          const dataTable =\n",
              "            await google.colab.kernel.invokeFunction('convertToInteractive',\n",
              "                                                     [key], {});\n",
              "          if (!dataTable) return;\n",
              "\n",
              "          const docLinkHtml = 'Like what you see? Visit the ' +\n",
              "            '<a target=\"_blank\" href=https://colab.research.google.com/notebooks/data_table.ipynb>data table notebook</a>'\n",
              "            + ' to learn more about interactive tables.';\n",
              "          element.innerHTML = '';\n",
              "          dataTable['output_type'] = 'display_data';\n",
              "          await google.colab.output.renderOutput(dataTable, element);\n",
              "          const docLink = document.createElement('div');\n",
              "          docLink.innerHTML = docLinkHtml;\n",
              "          element.appendChild(docLink);\n",
              "        }\n",
              "      </script>\n",
              "    </div>\n",
              "  </div>\n",
              "  "
            ]
          },
          "metadata": {},
          "execution_count": 5
        }
      ],
      "source": [
        "train.head()"
      ]
    },
    {
      "cell_type": "code",
      "execution_count": 6,
      "metadata": {
        "colab": {
          "base_uri": "https://localhost:8080/",
          "height": 394
        },
        "id": "ekt3MElxOenq",
        "outputId": "9bd326b2-a2a4-41bf-af95-425bfd1014b9"
      },
      "outputs": [
        {
          "output_type": "execute_result",
          "data": {
            "text/plain": [
              "          SK_ID_CURR         TARGET   CNT_CHILDREN  AMT_INCOME_TOTAL  \\\n",
              "count  307511.000000  307511.000000  307511.000000      3.075110e+05   \n",
              "mean   278180.518577       0.080729       0.417052      1.687979e+05   \n",
              "std    102790.175348       0.272419       0.722121      2.371231e+05   \n",
              "min    100002.000000       0.000000       0.000000      2.565000e+04   \n",
              "25%    189145.500000       0.000000       0.000000      1.125000e+05   \n",
              "50%    278202.000000       0.000000       0.000000      1.471500e+05   \n",
              "75%    367142.500000       0.000000       1.000000      2.025000e+05   \n",
              "max    456255.000000       1.000000      19.000000      1.170000e+08   \n",
              "\n",
              "         AMT_CREDIT    AMT_ANNUITY  AMT_GOODS_PRICE  \\\n",
              "count  3.075110e+05  307499.000000     3.072330e+05   \n",
              "mean   5.990260e+05   27108.573909     5.383962e+05   \n",
              "std    4.024908e+05   14493.737315     3.694465e+05   \n",
              "min    4.500000e+04    1615.500000     4.050000e+04   \n",
              "25%    2.700000e+05   16524.000000     2.385000e+05   \n",
              "50%    5.135310e+05   24903.000000     4.500000e+05   \n",
              "75%    8.086500e+05   34596.000000     6.795000e+05   \n",
              "max    4.050000e+06  258025.500000     4.050000e+06   \n",
              "\n",
              "       REGION_POPULATION_RELATIVE     DAYS_BIRTH  DAYS_EMPLOYED  ...  \\\n",
              "count               307511.000000  307511.000000  307511.000000  ...   \n",
              "mean                     0.020868  -16036.995067   63815.045904  ...   \n",
              "std                      0.013831    4363.988632  141275.766519  ...   \n",
              "min                      0.000290  -25229.000000  -17912.000000  ...   \n",
              "25%                      0.010006  -19682.000000   -2760.000000  ...   \n",
              "50%                      0.018850  -15750.000000   -1213.000000  ...   \n",
              "75%                      0.028663  -12413.000000    -289.000000  ...   \n",
              "max                      0.072508   -7489.000000  365243.000000  ...   \n",
              "\n",
              "       FLAG_DOCUMENT_18  FLAG_DOCUMENT_19  FLAG_DOCUMENT_20  FLAG_DOCUMENT_21  \\\n",
              "count     307511.000000     307511.000000     307511.000000     307511.000000   \n",
              "mean           0.008130          0.000595          0.000507          0.000335   \n",
              "std            0.089798          0.024387          0.022518          0.018299   \n",
              "min            0.000000          0.000000          0.000000          0.000000   \n",
              "25%            0.000000          0.000000          0.000000          0.000000   \n",
              "50%            0.000000          0.000000          0.000000          0.000000   \n",
              "75%            0.000000          0.000000          0.000000          0.000000   \n",
              "max            1.000000          1.000000          1.000000          1.000000   \n",
              "\n",
              "       AMT_REQ_CREDIT_BUREAU_HOUR  AMT_REQ_CREDIT_BUREAU_DAY  \\\n",
              "count               265992.000000              265992.000000   \n",
              "mean                     0.006402                   0.007000   \n",
              "std                      0.083849                   0.110757   \n",
              "min                      0.000000                   0.000000   \n",
              "25%                      0.000000                   0.000000   \n",
              "50%                      0.000000                   0.000000   \n",
              "75%                      0.000000                   0.000000   \n",
              "max                      4.000000                   9.000000   \n",
              "\n",
              "       AMT_REQ_CREDIT_BUREAU_WEEK  AMT_REQ_CREDIT_BUREAU_MON  \\\n",
              "count               265992.000000              265992.000000   \n",
              "mean                     0.034362                   0.267395   \n",
              "std                      0.204685                   0.916002   \n",
              "min                      0.000000                   0.000000   \n",
              "25%                      0.000000                   0.000000   \n",
              "50%                      0.000000                   0.000000   \n",
              "75%                      0.000000                   0.000000   \n",
              "max                      8.000000                  27.000000   \n",
              "\n",
              "       AMT_REQ_CREDIT_BUREAU_QRT  AMT_REQ_CREDIT_BUREAU_YEAR  \n",
              "count              265992.000000               265992.000000  \n",
              "mean                    0.265474                    1.899974  \n",
              "std                     0.794056                    1.869295  \n",
              "min                     0.000000                    0.000000  \n",
              "25%                     0.000000                    0.000000  \n",
              "50%                     0.000000                    1.000000  \n",
              "75%                     0.000000                    3.000000  \n",
              "max                   261.000000                   25.000000  \n",
              "\n",
              "[8 rows x 106 columns]"
            ],
            "text/html": [
              "\n",
              "  <div id=\"df-6e7efd2b-d754-420d-9c9a-52a35ac1e463\">\n",
              "    <div class=\"colab-df-container\">\n",
              "      <div>\n",
              "<style scoped>\n",
              "    .dataframe tbody tr th:only-of-type {\n",
              "        vertical-align: middle;\n",
              "    }\n",
              "\n",
              "    .dataframe tbody tr th {\n",
              "        vertical-align: top;\n",
              "    }\n",
              "\n",
              "    .dataframe thead th {\n",
              "        text-align: right;\n",
              "    }\n",
              "</style>\n",
              "<table border=\"1\" class=\"dataframe\">\n",
              "  <thead>\n",
              "    <tr style=\"text-align: right;\">\n",
              "      <th></th>\n",
              "      <th>SK_ID_CURR</th>\n",
              "      <th>TARGET</th>\n",
              "      <th>CNT_CHILDREN</th>\n",
              "      <th>AMT_INCOME_TOTAL</th>\n",
              "      <th>AMT_CREDIT</th>\n",
              "      <th>AMT_ANNUITY</th>\n",
              "      <th>AMT_GOODS_PRICE</th>\n",
              "      <th>REGION_POPULATION_RELATIVE</th>\n",
              "      <th>DAYS_BIRTH</th>\n",
              "      <th>DAYS_EMPLOYED</th>\n",
              "      <th>...</th>\n",
              "      <th>FLAG_DOCUMENT_18</th>\n",
              "      <th>FLAG_DOCUMENT_19</th>\n",
              "      <th>FLAG_DOCUMENT_20</th>\n",
              "      <th>FLAG_DOCUMENT_21</th>\n",
              "      <th>AMT_REQ_CREDIT_BUREAU_HOUR</th>\n",
              "      <th>AMT_REQ_CREDIT_BUREAU_DAY</th>\n",
              "      <th>AMT_REQ_CREDIT_BUREAU_WEEK</th>\n",
              "      <th>AMT_REQ_CREDIT_BUREAU_MON</th>\n",
              "      <th>AMT_REQ_CREDIT_BUREAU_QRT</th>\n",
              "      <th>AMT_REQ_CREDIT_BUREAU_YEAR</th>\n",
              "    </tr>\n",
              "  </thead>\n",
              "  <tbody>\n",
              "    <tr>\n",
              "      <th>count</th>\n",
              "      <td>307511.000000</td>\n",
              "      <td>307511.000000</td>\n",
              "      <td>307511.000000</td>\n",
              "      <td>3.075110e+05</td>\n",
              "      <td>3.075110e+05</td>\n",
              "      <td>307499.000000</td>\n",
              "      <td>3.072330e+05</td>\n",
              "      <td>307511.000000</td>\n",
              "      <td>307511.000000</td>\n",
              "      <td>307511.000000</td>\n",
              "      <td>...</td>\n",
              "      <td>307511.000000</td>\n",
              "      <td>307511.000000</td>\n",
              "      <td>307511.000000</td>\n",
              "      <td>307511.000000</td>\n",
              "      <td>265992.000000</td>\n",
              "      <td>265992.000000</td>\n",
              "      <td>265992.000000</td>\n",
              "      <td>265992.000000</td>\n",
              "      <td>265992.000000</td>\n",
              "      <td>265992.000000</td>\n",
              "    </tr>\n",
              "    <tr>\n",
              "      <th>mean</th>\n",
              "      <td>278180.518577</td>\n",
              "      <td>0.080729</td>\n",
              "      <td>0.417052</td>\n",
              "      <td>1.687979e+05</td>\n",
              "      <td>5.990260e+05</td>\n",
              "      <td>27108.573909</td>\n",
              "      <td>5.383962e+05</td>\n",
              "      <td>0.020868</td>\n",
              "      <td>-16036.995067</td>\n",
              "      <td>63815.045904</td>\n",
              "      <td>...</td>\n",
              "      <td>0.008130</td>\n",
              "      <td>0.000595</td>\n",
              "      <td>0.000507</td>\n",
              "      <td>0.000335</td>\n",
              "      <td>0.006402</td>\n",
              "      <td>0.007000</td>\n",
              "      <td>0.034362</td>\n",
              "      <td>0.267395</td>\n",
              "      <td>0.265474</td>\n",
              "      <td>1.899974</td>\n",
              "    </tr>\n",
              "    <tr>\n",
              "      <th>std</th>\n",
              "      <td>102790.175348</td>\n",
              "      <td>0.272419</td>\n",
              "      <td>0.722121</td>\n",
              "      <td>2.371231e+05</td>\n",
              "      <td>4.024908e+05</td>\n",
              "      <td>14493.737315</td>\n",
              "      <td>3.694465e+05</td>\n",
              "      <td>0.013831</td>\n",
              "      <td>4363.988632</td>\n",
              "      <td>141275.766519</td>\n",
              "      <td>...</td>\n",
              "      <td>0.089798</td>\n",
              "      <td>0.024387</td>\n",
              "      <td>0.022518</td>\n",
              "      <td>0.018299</td>\n",
              "      <td>0.083849</td>\n",
              "      <td>0.110757</td>\n",
              "      <td>0.204685</td>\n",
              "      <td>0.916002</td>\n",
              "      <td>0.794056</td>\n",
              "      <td>1.869295</td>\n",
              "    </tr>\n",
              "    <tr>\n",
              "      <th>min</th>\n",
              "      <td>100002.000000</td>\n",
              "      <td>0.000000</td>\n",
              "      <td>0.000000</td>\n",
              "      <td>2.565000e+04</td>\n",
              "      <td>4.500000e+04</td>\n",
              "      <td>1615.500000</td>\n",
              "      <td>4.050000e+04</td>\n",
              "      <td>0.000290</td>\n",
              "      <td>-25229.000000</td>\n",
              "      <td>-17912.000000</td>\n",
              "      <td>...</td>\n",
              "      <td>0.000000</td>\n",
              "      <td>0.000000</td>\n",
              "      <td>0.000000</td>\n",
              "      <td>0.000000</td>\n",
              "      <td>0.000000</td>\n",
              "      <td>0.000000</td>\n",
              "      <td>0.000000</td>\n",
              "      <td>0.000000</td>\n",
              "      <td>0.000000</td>\n",
              "      <td>0.000000</td>\n",
              "    </tr>\n",
              "    <tr>\n",
              "      <th>25%</th>\n",
              "      <td>189145.500000</td>\n",
              "      <td>0.000000</td>\n",
              "      <td>0.000000</td>\n",
              "      <td>1.125000e+05</td>\n",
              "      <td>2.700000e+05</td>\n",
              "      <td>16524.000000</td>\n",
              "      <td>2.385000e+05</td>\n",
              "      <td>0.010006</td>\n",
              "      <td>-19682.000000</td>\n",
              "      <td>-2760.000000</td>\n",
              "      <td>...</td>\n",
              "      <td>0.000000</td>\n",
              "      <td>0.000000</td>\n",
              "      <td>0.000000</td>\n",
              "      <td>0.000000</td>\n",
              "      <td>0.000000</td>\n",
              "      <td>0.000000</td>\n",
              "      <td>0.000000</td>\n",
              "      <td>0.000000</td>\n",
              "      <td>0.000000</td>\n",
              "      <td>0.000000</td>\n",
              "    </tr>\n",
              "    <tr>\n",
              "      <th>50%</th>\n",
              "      <td>278202.000000</td>\n",
              "      <td>0.000000</td>\n",
              "      <td>0.000000</td>\n",
              "      <td>1.471500e+05</td>\n",
              "      <td>5.135310e+05</td>\n",
              "      <td>24903.000000</td>\n",
              "      <td>4.500000e+05</td>\n",
              "      <td>0.018850</td>\n",
              "      <td>-15750.000000</td>\n",
              "      <td>-1213.000000</td>\n",
              "      <td>...</td>\n",
              "      <td>0.000000</td>\n",
              "      <td>0.000000</td>\n",
              "      <td>0.000000</td>\n",
              "      <td>0.000000</td>\n",
              "      <td>0.000000</td>\n",
              "      <td>0.000000</td>\n",
              "      <td>0.000000</td>\n",
              "      <td>0.000000</td>\n",
              "      <td>0.000000</td>\n",
              "      <td>1.000000</td>\n",
              "    </tr>\n",
              "    <tr>\n",
              "      <th>75%</th>\n",
              "      <td>367142.500000</td>\n",
              "      <td>0.000000</td>\n",
              "      <td>1.000000</td>\n",
              "      <td>2.025000e+05</td>\n",
              "      <td>8.086500e+05</td>\n",
              "      <td>34596.000000</td>\n",
              "      <td>6.795000e+05</td>\n",
              "      <td>0.028663</td>\n",
              "      <td>-12413.000000</td>\n",
              "      <td>-289.000000</td>\n",
              "      <td>...</td>\n",
              "      <td>0.000000</td>\n",
              "      <td>0.000000</td>\n",
              "      <td>0.000000</td>\n",
              "      <td>0.000000</td>\n",
              "      <td>0.000000</td>\n",
              "      <td>0.000000</td>\n",
              "      <td>0.000000</td>\n",
              "      <td>0.000000</td>\n",
              "      <td>0.000000</td>\n",
              "      <td>3.000000</td>\n",
              "    </tr>\n",
              "    <tr>\n",
              "      <th>max</th>\n",
              "      <td>456255.000000</td>\n",
              "      <td>1.000000</td>\n",
              "      <td>19.000000</td>\n",
              "      <td>1.170000e+08</td>\n",
              "      <td>4.050000e+06</td>\n",
              "      <td>258025.500000</td>\n",
              "      <td>4.050000e+06</td>\n",
              "      <td>0.072508</td>\n",
              "      <td>-7489.000000</td>\n",
              "      <td>365243.000000</td>\n",
              "      <td>...</td>\n",
              "      <td>1.000000</td>\n",
              "      <td>1.000000</td>\n",
              "      <td>1.000000</td>\n",
              "      <td>1.000000</td>\n",
              "      <td>4.000000</td>\n",
              "      <td>9.000000</td>\n",
              "      <td>8.000000</td>\n",
              "      <td>27.000000</td>\n",
              "      <td>261.000000</td>\n",
              "      <td>25.000000</td>\n",
              "    </tr>\n",
              "  </tbody>\n",
              "</table>\n",
              "<p>8 rows × 106 columns</p>\n",
              "</div>\n",
              "      <button class=\"colab-df-convert\" onclick=\"convertToInteractive('df-6e7efd2b-d754-420d-9c9a-52a35ac1e463')\"\n",
              "              title=\"Convert this dataframe to an interactive table.\"\n",
              "              style=\"display:none;\">\n",
              "        \n",
              "  <svg xmlns=\"http://www.w3.org/2000/svg\" height=\"24px\"viewBox=\"0 0 24 24\"\n",
              "       width=\"24px\">\n",
              "    <path d=\"M0 0h24v24H0V0z\" fill=\"none\"/>\n",
              "    <path d=\"M18.56 5.44l.94 2.06.94-2.06 2.06-.94-2.06-.94-.94-2.06-.94 2.06-2.06.94zm-11 1L8.5 8.5l.94-2.06 2.06-.94-2.06-.94L8.5 2.5l-.94 2.06-2.06.94zm10 10l.94 2.06.94-2.06 2.06-.94-2.06-.94-.94-2.06-.94 2.06-2.06.94z\"/><path d=\"M17.41 7.96l-1.37-1.37c-.4-.4-.92-.59-1.43-.59-.52 0-1.04.2-1.43.59L10.3 9.45l-7.72 7.72c-.78.78-.78 2.05 0 2.83L4 21.41c.39.39.9.59 1.41.59.51 0 1.02-.2 1.41-.59l7.78-7.78 2.81-2.81c.8-.78.8-2.07 0-2.86zM5.41 20L4 18.59l7.72-7.72 1.47 1.35L5.41 20z\"/>\n",
              "  </svg>\n",
              "      </button>\n",
              "      \n",
              "  <style>\n",
              "    .colab-df-container {\n",
              "      display:flex;\n",
              "      flex-wrap:wrap;\n",
              "      gap: 12px;\n",
              "    }\n",
              "\n",
              "    .colab-df-convert {\n",
              "      background-color: #E8F0FE;\n",
              "      border: none;\n",
              "      border-radius: 50%;\n",
              "      cursor: pointer;\n",
              "      display: none;\n",
              "      fill: #1967D2;\n",
              "      height: 32px;\n",
              "      padding: 0 0 0 0;\n",
              "      width: 32px;\n",
              "    }\n",
              "\n",
              "    .colab-df-convert:hover {\n",
              "      background-color: #E2EBFA;\n",
              "      box-shadow: 0px 1px 2px rgba(60, 64, 67, 0.3), 0px 1px 3px 1px rgba(60, 64, 67, 0.15);\n",
              "      fill: #174EA6;\n",
              "    }\n",
              "\n",
              "    [theme=dark] .colab-df-convert {\n",
              "      background-color: #3B4455;\n",
              "      fill: #D2E3FC;\n",
              "    }\n",
              "\n",
              "    [theme=dark] .colab-df-convert:hover {\n",
              "      background-color: #434B5C;\n",
              "      box-shadow: 0px 1px 3px 1px rgba(0, 0, 0, 0.15);\n",
              "      filter: drop-shadow(0px 1px 2px rgba(0, 0, 0, 0.3));\n",
              "      fill: #FFFFFF;\n",
              "    }\n",
              "  </style>\n",
              "\n",
              "      <script>\n",
              "        const buttonEl =\n",
              "          document.querySelector('#df-6e7efd2b-d754-420d-9c9a-52a35ac1e463 button.colab-df-convert');\n",
              "        buttonEl.style.display =\n",
              "          google.colab.kernel.accessAllowed ? 'block' : 'none';\n",
              "\n",
              "        async function convertToInteractive(key) {\n",
              "          const element = document.querySelector('#df-6e7efd2b-d754-420d-9c9a-52a35ac1e463');\n",
              "          const dataTable =\n",
              "            await google.colab.kernel.invokeFunction('convertToInteractive',\n",
              "                                                     [key], {});\n",
              "          if (!dataTable) return;\n",
              "\n",
              "          const docLinkHtml = 'Like what you see? Visit the ' +\n",
              "            '<a target=\"_blank\" href=https://colab.research.google.com/notebooks/data_table.ipynb>data table notebook</a>'\n",
              "            + ' to learn more about interactive tables.';\n",
              "          element.innerHTML = '';\n",
              "          dataTable['output_type'] = 'display_data';\n",
              "          await google.colab.output.renderOutput(dataTable, element);\n",
              "          const docLink = document.createElement('div');\n",
              "          docLink.innerHTML = docLinkHtml;\n",
              "          element.appendChild(docLink);\n",
              "        }\n",
              "      </script>\n",
              "    </div>\n",
              "  </div>\n",
              "  "
            ]
          },
          "metadata": {},
          "execution_count": 6
        }
      ],
      "source": [
        "train.describe()"
      ]
    },
    {
      "cell_type": "code",
      "execution_count": 7,
      "metadata": {
        "colab": {
          "base_uri": "https://localhost:8080/",
          "height": 296
        },
        "id": "OYQGhhg2Oenw",
        "outputId": "ee3d84b0-7a52-4431-9c2b-ab87f63ff37d",
        "scrolled": true
      },
      "outputs": [
        {
          "output_type": "execute_result",
          "data": {
            "text/plain": [
              "<matplotlib.axes._subplots.AxesSubplot at 0x7f265afcf5d0>"
            ]
          },
          "metadata": {},
          "execution_count": 7
        },
        {
          "output_type": "display_data",
          "data": {
            "text/plain": [
              "<Figure size 432x288 with 1 Axes>"
            ],
            "image/png": "[encoded data removed]"
          },
          "metadata": {
            "needs_background": "light"
          }
        }
      ],
      "source": [
        "sns.countplot(train.TARGET)"
      ]
    },
    {
      "cell_type": "code",
      "execution_count": 8,
      "metadata": {
        "colab": {
          "base_uri": "https://localhost:8080/"
        },
        "id": "Nly1rWakOen3",
        "outputId": "cc9b6345-76d9-4f72-dd07-77ccbb671978"
      },
      "outputs": [
        {
          "output_type": "execute_result",
          "data": {
            "text/plain": [
              "0    282686\n",
              "1     24825\n",
              "Name: TARGET, dtype: int64"
            ]
          },
          "metadata": {},
          "execution_count": 8
        }
      ],
      "source": [
        "train['TARGET'].value_counts()"
      ]
    },
    {
      "cell_type": "markdown",
      "metadata": {
        "id": "pL171tkzOen7"
      },
      "source": [
        "Hiện tượng imbalanced.\n",
        "target 0: trả khoản vay đúng hạn (91.92%)\n",
        "target 1: gặp khó khăn khi trả khoản vay (8.08%)"
      ]
    },
    {
      "cell_type": "code",
      "execution_count": 9,
      "metadata": {
        "colab": {
          "base_uri": "https://localhost:8080/"
        },
        "id": "4TKBuVuQOen_",
        "outputId": "516227d1-b5ee-4b09-e0b9-bd9bfa13efcf",
        "scrolled": true
      },
      "outputs": [
        {
          "output_type": "stream",
          "name": "stdout",
          "text": [
            "Shape của tập train: (307511, 122)\n",
            "Shape của tập test: (48744, 121)\n"
          ]
        }
      ],
      "source": [
        "print(\"Shape của tập train: {}\".format(train.shape))\n",
        "print(\"Shape của tập test: {}\".format(test.shape))"
      ]
    },
    {
      "cell_type": "code",
      "execution_count": 10,
      "metadata": {
        "colab": {
          "base_uri": "https://localhost:8080/"
        },
        "id": "KGRUuvsVOeoD",
        "outputId": "02141b00-9f3d-4954-9d57-64636eef5f10"
      },
      "outputs": [
        {
          "output_type": "stream",
          "name": "stdout",
          "text": [
            "Tập train: \n",
            "float64    65\n",
            "int64      41\n",
            "object     16\n",
            "dtype: int64\n",
            "\n",
            "Tập test: \n",
            "float64    65\n",
            "int64      40\n",
            "object     16\n",
            "dtype: int64\n"
          ]
        }
      ],
      "source": [
        "print(\"Tập train: \\n{}\".format(train.dtypes.value_counts()))\n",
        "print()\n",
        "print(\"Tập test: \\n{}\".format(test.dtypes.value_counts())) "
      ]
    },
    {
      "cell_type": "markdown",
      "metadata": {
        "id": "iTqXQs3k6Jgb"
      },
      "source": [
        "# Check missing values"
      ]
    },
    {
      "cell_type": "code",
      "execution_count": 11,
      "metadata": {
        "id": "r_JAEqzIOeoH"
      },
      "outputs": [],
      "source": [
        "def missing_columns(dataframe):\n",
        "    # tìm các giá trị thiếu \n",
        "    missing_values = dataframe.isnull().sum().sort_values(ascending=False)\n",
        "    \n",
        "    # phần trăm của các giá trị thiếu \n",
        "    missing_values_pct = 100 * missing_values/len(dataframe)\n",
        "    concat_values = pd.concat([missing_values, missing_values/len(dataframe),missing_values_pct.round(1)],axis=1)\n",
        "    concat_values.columns = ['Missing Count','Missing Count Ratio','Missing Count %']\n",
        "\n",
        "    return concat_values[concat_values.iloc[:,1]!=0]"
      ]
    },
    {
      "cell_type": "code",
      "execution_count": 12,
      "metadata": {
        "colab": {
          "base_uri": "https://localhost:8080/",
          "height": 424
        },
        "id": "gyS2E-SUOeoM",
        "outputId": "7e5e7695-4980-4d07-daa6-baddb9205e04",
        "scrolled": true
      },
      "outputs": [
        {
          "output_type": "execute_result",
          "data": {
            "text/plain": [
              "                          Missing Count  Missing Count Ratio  Missing Count %\n",
              "COMMONAREA_MEDI                  214865             0.698723             69.9\n",
              "COMMONAREA_AVG                   214865             0.698723             69.9\n",
              "COMMONAREA_MODE                  214865             0.698723             69.9\n",
              "NONLIVINGAPARTMENTS_MODE         213514             0.694330             69.4\n",
              "NONLIVINGAPARTMENTS_AVG          213514             0.694330             69.4\n",
              "...                                 ...                  ...              ...\n",
              "EXT_SOURCE_2                        660             0.002146              0.2\n",
              "AMT_GOODS_PRICE                     278             0.000904              0.1\n",
              "AMT_ANNUITY                          12             0.000039              0.0\n",
              "CNT_FAM_MEMBERS                       2             0.000007              0.0\n",
              "DAYS_LAST_PHONE_CHANGE                1             0.000003              0.0\n",
              "\n",
              "[67 rows x 3 columns]"
            ],
            "text/html": [
              "\n",
              "  <div id=\"df-a21a77a3-aa43-43f9-9336-764088de46c9\">\n",
              "    <div class=\"colab-df-container\">\n",
              "      <div>\n",
              "<style scoped>\n",
              "    .dataframe tbody tr th:only-of-type {\n",
              "        vertical-align: middle;\n",
              "    }\n",
              "\n",
              "    .dataframe tbody tr th {\n",
              "        vertical-align: top;\n",
              "    }\n",
              "\n",
              "    .dataframe thead th {\n",
              "        text-align: right;\n",
              "    }\n",
              "</style>\n",
              "<table border=\"1\" class=\"dataframe\">\n",
              "  <thead>\n",
              "    <tr style=\"text-align: right;\">\n",
              "      <th></th>\n",
              "      <th>Missing Count</th>\n",
              "      <th>Missing Count Ratio</th>\n",
              "      <th>Missing Count %</th>\n",
              "    </tr>\n",
              "  </thead>\n",
              "  <tbody>\n",
              "    <tr>\n",
              "      <th>COMMONAREA_MEDI</th>\n",
              "      <td>214865</td>\n",
              "      <td>0.698723</td>\n",
              "      <td>69.9</td>\n",
              "    </tr>\n",
              "    <tr>\n",
              "      <th>COMMONAREA_AVG</th>\n",
              "      <td>214865</td>\n",
              "      <td>0.698723</td>\n",
              "      <td>69.9</td>\n",
              "    </tr>\n",
              "    <tr>\n",
              "      <th>COMMONAREA_MODE</th>\n",
              "      <td>214865</td>\n",
              "      <td>0.698723</td>\n",
              "      <td>69.9</td>\n",
              "    </tr>\n",
              "    <tr>\n",
              "      <th>NONLIVINGAPARTMENTS_MODE</th>\n",
              "      <td>213514</td>\n",
              "      <td>0.694330</td>\n",
              "      <td>69.4</td>\n",
              "    </tr>\n",
              "    <tr>\n",
              "      <th>NONLIVINGAPARTMENTS_AVG</th>\n",
              "      <td>213514</td>\n",
              "      <td>0.694330</td>\n",
              "      <td>69.4</td>\n",
              "    </tr>\n",
              "    <tr>\n",
              "      <th>...</th>\n",
              "      <td>...</td>\n",
              "      <td>...</td>\n",
              "      <td>...</td>\n",
              "    </tr>\n",
              "    <tr>\n",
              "      <th>EXT_SOURCE_2</th>\n",
              "      <td>660</td>\n",
              "      <td>0.002146</td>\n",
              "      <td>0.2</td>\n",
              "    </tr>\n",
              "    <tr>\n",
              "      <th>AMT_GOODS_PRICE</th>\n",
              "      <td>278</td>\n",
              "      <td>0.000904</td>\n",
              "      <td>0.1</td>\n",
              "    </tr>\n",
              "    <tr>\n",
              "      <th>AMT_ANNUITY</th>\n",
              "      <td>12</td>\n",
              "      <td>0.000039</td>\n",
              "      <td>0.0</td>\n",
              "    </tr>\n",
              "    <tr>\n",
              "      <th>CNT_FAM_MEMBERS</th>\n",
              "      <td>2</td>\n",
              "      <td>0.000007</td>\n",
              "      <td>0.0</td>\n",
              "    </tr>\n",
              "    <tr>\n",
              "      <th>DAYS_LAST_PHONE_CHANGE</th>\n",
              "      <td>1</td>\n",
              "      <td>0.000003</td>\n",
              "      <td>0.0</td>\n",
              "    </tr>\n",
              "  </tbody>\n",
              "</table>\n",
              "<p>67 rows × 3 columns</p>\n",
              "</div>\n",
              "      <button class=\"colab-df-convert\" onclick=\"convertToInteractive('df-a21a77a3-aa43-43f9-9336-764088de46c9')\"\n",
              "              title=\"Convert this dataframe to an interactive table.\"\n",
              "              style=\"display:none;\">\n",
              "        \n",
              "  <svg xmlns=\"http://www.w3.org/2000/svg\" height=\"24px\"viewBox=\"0 0 24 24\"\n",
              "       width=\"24px\">\n",
              "    <path d=\"M0 0h24v24H0V0z\" fill=\"none\"/>\n",
              "    <path d=\"M18.56 5.44l.94 2.06.94-2.06 2.06-.94-2.06-.94-.94-2.06-.94 2.06-2.06.94zm-11 1L8.5 8.5l.94-2.06 2.06-.94-2.06-.94L8.5 2.5l-.94 2.06-2.06.94zm10 10l.94 2.06.94-2.06 2.06-.94-2.06-.94-.94-2.06-.94 2.06-2.06.94z\"/><path d=\"M17.41 7.96l-1.37-1.37c-.4-.4-.92-.59-1.43-.59-.52 0-1.04.2-1.43.59L10.3 9.45l-7.72 7.72c-.78.78-.78 2.05 0 2.83L4 21.41c.39.39.9.59 1.41.59.51 0 1.02-.2 1.41-.59l7.78-7.78 2.81-2.81c.8-.78.8-2.07 0-2.86zM5.41 20L4 18.59l7.72-7.72 1.47 1.35L5.41 20z\"/>\n",
              "  </svg>\n",
              "      </button>\n",
              "      \n",
              "  <style>\n",
              "    .colab-df-container {\n",
              "      display:flex;\n",
              "      flex-wrap:wrap;\n",
              "      gap: 12px;\n",
              "    }\n",
              "\n",
              "    .colab-df-convert {\n",
              "      background-color: #E8F0FE;\n",
              "      border: none;\n",
              "      border-radius: 50%;\n",
              "      cursor: pointer;\n",
              "      display: none;\n",
              "      fill: #1967D2;\n",
              "      height: 32px;\n",
              "      padding: 0 0 0 0;\n",
              "      width: 32px;\n",
              "    }\n",
              "\n",
              "    .colab-df-convert:hover {\n",
              "      background-color: #E2EBFA;\n",
              "      box-shadow: 0px 1px 2px rgba(60, 64, 67, 0.3), 0px 1px 3px 1px rgba(60, 64, 67, 0.15);\n",
              "      fill: #174EA6;\n",
              "    }\n",
              "\n",
              "    [theme=dark] .colab-df-convert {\n",
              "      background-color: #3B4455;\n",
              "      fill: #D2E3FC;\n",
              "    }\n",
              "\n",
              "    [theme=dark] .colab-df-convert:hover {\n",
              "      background-color: #434B5C;\n",
              "      box-shadow: 0px 1px 3px 1px rgba(0, 0, 0, 0.15);\n",
              "      filter: drop-shadow(0px 1px 2px rgba(0, 0, 0, 0.3));\n",
              "      fill: #FFFFFF;\n",
              "    }\n",
              "  </style>\n",
              "\n",
              "      <script>\n",
              "        const buttonEl =\n",
              "          document.querySelector('#df-a21a77a3-aa43-43f9-9336-764088de46c9 button.colab-df-convert');\n",
              "        buttonEl.style.display =\n",
              "          google.colab.kernel.accessAllowed ? 'block' : 'none';\n",
              "\n",
              "        async function convertToInteractive(key) {\n",
              "          const element = document.querySelector('#df-a21a77a3-aa43-43f9-9336-764088de46c9');\n",
              "          const dataTable =\n",
              "            await google.colab.kernel.invokeFunction('convertToInteractive',\n",
              "                                                     [key], {});\n",
              "          if (!dataTable) return;\n",
              "\n",
              "          const docLinkHtml = 'Like what you see? Visit the ' +\n",
              "            '<a target=\"_blank\" href=https://colab.research.google.com/notebooks/data_table.ipynb>data table notebook</a>'\n",
              "            + ' to learn more about interactive tables.';\n",
              "          element.innerHTML = '';\n",
              "          dataTable['output_type'] = 'display_data';\n",
              "          await google.colab.output.renderOutput(dataTable, element);\n",
              "          const docLink = document.createElement('div');\n",
              "          docLink.innerHTML = docLinkHtml;\n",
              "          element.appendChild(docLink);\n",
              "        }\n",
              "      </script>\n",
              "    </div>\n",
              "  </div>\n",
              "  "
            ]
          },
          "metadata": {},
          "execution_count": 12
        }
      ],
      "source": [
        "missing_columns(train)"
      ]
    },
    {
      "cell_type": "code",
      "execution_count": 13,
      "metadata": {
        "colab": {
          "base_uri": "https://localhost:8080/",
          "height": 424
        },
        "id": "5WmXTnWtOeoP",
        "outputId": "72daa1d5-7b53-4b79-e05d-461a33e3875f",
        "scrolled": true
      },
      "outputs": [
        {
          "output_type": "execute_result",
          "data": {
            "text/plain": [
              "                          Missing Count  Missing Count Ratio  Missing Count %\n",
              "COMMONAREA_AVG                    33495             0.687161             68.7\n",
              "COMMONAREA_MODE                   33495             0.687161             68.7\n",
              "COMMONAREA_MEDI                   33495             0.687161             68.7\n",
              "NONLIVINGAPARTMENTS_AVG           33347             0.684125             68.4\n",
              "NONLIVINGAPARTMENTS_MODE          33347             0.684125             68.4\n",
              "...                                 ...                  ...              ...\n",
              "OBS_30_CNT_SOCIAL_CIRCLE             29             0.000595              0.1\n",
              "OBS_60_CNT_SOCIAL_CIRCLE             29             0.000595              0.1\n",
              "DEF_60_CNT_SOCIAL_CIRCLE             29             0.000595              0.1\n",
              "AMT_ANNUITY                          24             0.000492              0.0\n",
              "EXT_SOURCE_2                          8             0.000164              0.0\n",
              "\n",
              "[64 rows x 3 columns]"
            ],
            "text/html": [
              "\n",
              "  <div id=\"df-04e0d6f0-81f2-49da-952c-4435a3131075\">\n",
              "    <div class=\"colab-df-container\">\n",
              "      <div>\n",
              "<style scoped>\n",
              "    .dataframe tbody tr th:only-of-type {\n",
              "        vertical-align: middle;\n",
              "    }\n",
              "\n",
              "    .dataframe tbody tr th {\n",
              "        vertical-align: top;\n",
              "    }\n",
              "\n",
              "    .dataframe thead th {\n",
              "        text-align: right;\n",
              "    }\n",
              "</style>\n",
              "<table border=\"1\" class=\"dataframe\">\n",
              "  <thead>\n",
              "    <tr style=\"text-align: right;\">\n",
              "      <th></th>\n",
              "      <th>Missing Count</th>\n",
              "      <th>Missing Count Ratio</th>\n",
              "      <th>Missing Count %</th>\n",
              "    </tr>\n",
              "  </thead>\n",
              "  <tbody>\n",
              "    <tr>\n",
              "      <th>COMMONAREA_AVG</th>\n",
              "      <td>33495</td>\n",
              "      <td>0.687161</td>\n",
              "      <td>68.7</td>\n",
              "    </tr>\n",
              "    <tr>\n",
              "      <th>COMMONAREA_MODE</th>\n",
              "      <td>33495</td>\n",
              "      <td>0.687161</td>\n",
              "      <td>68.7</td>\n",
              "    </tr>\n",
              "    <tr>\n",
              "      <th>COMMONAREA_MEDI</th>\n",
              "      <td>33495</td>\n",
              "      <td>0.687161</td>\n",
              "      <td>68.7</td>\n",
              "    </tr>\n",
              "    <tr>\n",
              "      <th>NONLIVINGAPARTMENTS_AVG</th>\n",
              "      <td>33347</td>\n",
              "      <td>0.684125</td>\n",
              "      <td>68.4</td>\n",
              "    </tr>\n",
              "    <tr>\n",
              "      <th>NONLIVINGAPARTMENTS_MODE</th>\n",
              "      <td>33347</td>\n",
              "      <td>0.684125</td>\n",
              "      <td>68.4</td>\n",
              "    </tr>\n",
              "    <tr>\n",
              "      <th>...</th>\n",
              "      <td>...</td>\n",
              "      <td>...</td>\n",
              "      <td>...</td>\n",
              "    </tr>\n",
              "    <tr>\n",
              "      <th>OBS_30_CNT_SOCIAL_CIRCLE</th>\n",
              "      <td>29</td>\n",
              "      <td>0.000595</td>\n",
              "      <td>0.1</td>\n",
              "    </tr>\n",
              "    <tr>\n",
              "      <th>OBS_60_CNT_SOCIAL_CIRCLE</th>\n",
              "      <td>29</td>\n",
              "      <td>0.000595</td>\n",
              "      <td>0.1</td>\n",
              "    </tr>\n",
              "    <tr>\n",
              "      <th>DEF_60_CNT_SOCIAL_CIRCLE</th>\n",
              "      <td>29</td>\n",
              "      <td>0.000595</td>\n",
              "      <td>0.1</td>\n",
              "    </tr>\n",
              "    <tr>\n",
              "      <th>AMT_ANNUITY</th>\n",
              "      <td>24</td>\n",
              "      <td>0.000492</td>\n",
              "      <td>0.0</td>\n",
              "    </tr>\n",
              "    <tr>\n",
              "      <th>EXT_SOURCE_2</th>\n",
              "      <td>8</td>\n",
              "      <td>0.000164</td>\n",
              "      <td>0.0</td>\n",
              "    </tr>\n",
              "  </tbody>\n",
              "</table>\n",
              "<p>64 rows × 3 columns</p>\n",
              "</div>\n",
              "      <button class=\"colab-df-convert\" onclick=\"convertToInteractive('df-04e0d6f0-81f2-49da-952c-4435a3131075')\"\n",
              "              title=\"Convert this dataframe to an interactive table.\"\n",
              "              style=\"display:none;\">\n",
              "        \n",
              "  <svg xmlns=\"http://www.w3.org/2000/svg\" height=\"24px\"viewBox=\"0 0 24 24\"\n",
              "       width=\"24px\">\n",
              "    <path d=\"M0 0h24v24H0V0z\" fill=\"none\"/>\n",
              "    <path d=\"M18.56 5.44l.94 2.06.94-2.06 2.06-.94-2.06-.94-.94-2.06-.94 2.06-2.06.94zm-11 1L8.5 8.5l.94-2.06 2.06-.94-2.06-.94L8.5 2.5l-.94 2.06-2.06.94zm10 10l.94 2.06.94-2.06 2.06-.94-2.06-.94-.94-2.06-.94 2.06-2.06.94z\"/><path d=\"M17.41 7.96l-1.37-1.37c-.4-.4-.92-.59-1.43-.59-.52 0-1.04.2-1.43.59L10.3 9.45l-7.72 7.72c-.78.78-.78 2.05 0 2.83L4 21.41c.39.39.9.59 1.41.59.51 0 1.02-.2 1.41-.59l7.78-7.78 2.81-2.81c.8-.78.8-2.07 0-2.86zM5.41 20L4 18.59l7.72-7.72 1.47 1.35L5.41 20z\"/>\n",
              "  </svg>\n",
              "      </button>\n",
              "      \n",
              "  <style>\n",
              "    .colab-df-container {\n",
              "      display:flex;\n",
              "      flex-wrap:wrap;\n",
              "      gap: 12px;\n",
              "    }\n",
              "\n",
              "    .colab-df-convert {\n",
              "      background-color: #E8F0FE;\n",
              "      border: none;\n",
              "      border-radius: 50%;\n",
              "      cursor: pointer;\n",
              "      display: none;\n",
              "      fill: #1967D2;\n",
              "      height: 32px;\n",
              "      padding: 0 0 0 0;\n",
              "      width: 32px;\n",
              "    }\n",
              "\n",
              "    .colab-df-convert:hover {\n",
              "      background-color: #E2EBFA;\n",
              "      box-shadow: 0px 1px 2px rgba(60, 64, 67, 0.3), 0px 1px 3px 1px rgba(60, 64, 67, 0.15);\n",
              "      fill: #174EA6;\n",
              "    }\n",
              "\n",
              "    [theme=dark] .colab-df-convert {\n",
              "      background-color: #3B4455;\n",
              "      fill: #D2E3FC;\n",
              "    }\n",
              "\n",
              "    [theme=dark] .colab-df-convert:hover {\n",
              "      background-color: #434B5C;\n",
              "      box-shadow: 0px 1px 3px 1px rgba(0, 0, 0, 0.15);\n",
              "      filter: drop-shadow(0px 1px 2px rgba(0, 0, 0, 0.3));\n",
              "      fill: #FFFFFF;\n",
              "    }\n",
              "  </style>\n",
              "\n",
              "      <script>\n",
              "        const buttonEl =\n",
              "          document.querySelector('#df-04e0d6f0-81f2-49da-952c-4435a3131075 button.colab-df-convert');\n",
              "        buttonEl.style.display =\n",
              "          google.colab.kernel.accessAllowed ? 'block' : 'none';\n",
              "\n",
              "        async function convertToInteractive(key) {\n",
              "          const element = document.querySelector('#df-04e0d6f0-81f2-49da-952c-4435a3131075');\n",
              "          const dataTable =\n",
              "            await google.colab.kernel.invokeFunction('convertToInteractive',\n",
              "                                                     [key], {});\n",
              "          if (!dataTable) return;\n",
              "\n",
              "          const docLinkHtml = 'Like what you see? Visit the ' +\n",
              "            '<a target=\"_blank\" href=https://colab.research.google.com/notebooks/data_table.ipynb>data table notebook</a>'\n",
              "            + ' to learn more about interactive tables.';\n",
              "          element.innerHTML = '';\n",
              "          dataTable['output_type'] = 'display_data';\n",
              "          await google.colab.output.renderOutput(dataTable, element);\n",
              "          const docLink = document.createElement('div');\n",
              "          docLink.innerHTML = docLinkHtml;\n",
              "          element.appendChild(docLink);\n",
              "        }\n",
              "      </script>\n",
              "    </div>\n",
              "  </div>\n",
              "  "
            ]
          },
          "metadata": {},
          "execution_count": 13
        }
      ],
      "source": [
        "missing_columns(test)"
      ]
    },
    {
      "cell_type": "code",
      "execution_count": 14,
      "metadata": {
        "colab": {
          "base_uri": "https://localhost:8080/"
        },
        "id": "aW1AhbPYOeoS",
        "outputId": "97cc78e6-52e6-4855-f473-4711a6eba879"
      },
      "outputs": [
        {
          "output_type": "execute_result",
          "data": {
            "text/plain": [
              "NAME_CONTRACT_TYPE             2\n",
              "CODE_GENDER                    3\n",
              "FLAG_OWN_CAR                   2\n",
              "FLAG_OWN_REALTY                2\n",
              "NAME_TYPE_SUITE                7\n",
              "NAME_INCOME_TYPE               8\n",
              "NAME_EDUCATION_TYPE            5\n",
              "NAME_FAMILY_STATUS             6\n",
              "NAME_HOUSING_TYPE              6\n",
              "OCCUPATION_TYPE               18\n",
              "WEEKDAY_APPR_PROCESS_START     7\n",
              "ORGANIZATION_TYPE             58\n",
              "FONDKAPREMONT_MODE             4\n",
              "HOUSETYPE_MODE                 3\n",
              "WALLSMATERIAL_MODE             7\n",
              "EMERGENCYSTATE_MODE            2\n",
              "dtype: int64"
            ]
          },
          "metadata": {},
          "execution_count": 14
        }
      ],
      "source": [
        "# Số lớp duy nhất trong mỗi cột\n",
        "train.select_dtypes('object').apply(pd.Series.nunique)"
      ]
    },
    {
      "cell_type": "code",
      "execution_count": 15,
      "metadata": {
        "colab": {
          "base_uri": "https://localhost:8080/"
        },
        "id": "a5_QuAeKOeoW",
        "outputId": "0ae4e501-9b81-441a-adc5-ee9fc84083e1"
      },
      "outputs": [
        {
          "output_type": "execute_result",
          "data": {
            "text/plain": [
              "NAME_CONTRACT_TYPE             2\n",
              "CODE_GENDER                    2\n",
              "FLAG_OWN_CAR                   2\n",
              "FLAG_OWN_REALTY                2\n",
              "NAME_TYPE_SUITE                7\n",
              "NAME_INCOME_TYPE               7\n",
              "NAME_EDUCATION_TYPE            5\n",
              "NAME_FAMILY_STATUS             5\n",
              "NAME_HOUSING_TYPE              6\n",
              "OCCUPATION_TYPE               18\n",
              "WEEKDAY_APPR_PROCESS_START     7\n",
              "ORGANIZATION_TYPE             58\n",
              "FONDKAPREMONT_MODE             4\n",
              "HOUSETYPE_MODE                 3\n",
              "WALLSMATERIAL_MODE             7\n",
              "EMERGENCYSTATE_MODE            2\n",
              "dtype: int64"
            ]
          },
          "metadata": {},
          "execution_count": 15
        }
      ],
      "source": [
        "test.select_dtypes('object').apply(pd.Series.nunique)"
      ]
    },
    {
      "cell_type": "markdown",
      "metadata": {
        "id": "gfR6cZ_8OeoZ"
      },
      "source": [
        "# Handling Categorical variables - Label Encoding and One Hot Encoding."
      ]
    },
    {
      "cell_type": "code",
      "execution_count": 16,
      "metadata": {
        "colab": {
          "base_uri": "https://localhost:8080/"
        },
        "id": "UyUvNyFjOeob",
        "outputId": "dfe30c29-d5c3-4c45-c954-4c405d1759ed"
      },
      "outputs": [
        {
          "output_type": "stream",
          "name": "stdout",
          "text": [
            "Label encoded 4 columns.\n"
          ]
        }
      ],
      "source": [
        "# Tạo label encode cho object\n",
        "from sklearn.preprocessing import LabelEncoder\n",
        "\n",
        "le = LabelEncoder()\n",
        "transform_counter = 0\n",
        "\n",
        "for col in train.select_dtypes('object').columns:\n",
        "    \n",
        "    # chỉ chọn những cột có số lượng giá trị duy nhất trong category nhỏ hơn hoặc bằng 2  \n",
        "    if pd.Series.nunique(train[col]) <= 2:\n",
        "        train[col] = le.fit_transform(train[col].astype(str))\n",
        "        test[col] = le.fit_transform(test[col].astype(str))\n",
        "        \n",
        "        transform_counter+=1\n",
        "        \n",
        "print(\"Label encoded {} columns.\".format(transform_counter))    "
      ]
    },
    {
      "cell_type": "code",
      "execution_count": 17,
      "metadata": {
        "id": "W8gnpNs7Oeog"
      },
      "outputs": [],
      "source": [
        "# one-hot encode cho các biến categorical\n",
        "train = pd.get_dummies(train,drop_first=True)\n",
        "test = pd.get_dummies(test,drop_first=True)"
      ]
    },
    {
      "cell_type": "code",
      "execution_count": 18,
      "metadata": {
        "colab": {
          "base_uri": "https://localhost:8080/"
        },
        "id": "yA-6qXKUOeoh",
        "outputId": "411cc7fe-cfe7-4ee2-dda0-216208156ade"
      },
      "outputs": [
        {
          "output_type": "stream",
          "name": "stdout",
          "text": [
            "Training Features shape:  (307511, 230)\n",
            "Testing Features shape:  (48744, 226)\n"
          ]
        }
      ],
      "source": [
        "print('Training Features shape: ', train.shape)\n",
        "print('Testing Features shape: ', test.shape)"
      ]
    },
    {
      "cell_type": "code",
      "execution_count": 19,
      "metadata": {
        "id": "-vaZYCA0Oeok"
      },
      "outputs": [],
      "source": [
        "target = train['TARGET']"
      ]
    },
    {
      "cell_type": "code",
      "execution_count": 20,
      "metadata": {
        "id": "nDxYkiJdOeoo"
      },
      "outputs": [],
      "source": [
        "train, test = train.align(test,axis=1,join='inner')"
      ]
    },
    {
      "cell_type": "code",
      "execution_count": 21,
      "metadata": {
        "id": "rUT5X0FJOeoq"
      },
      "outputs": [],
      "source": [
        "train['TARGET'] = target"
      ]
    },
    {
      "cell_type": "code",
      "execution_count": 22,
      "metadata": {
        "colab": {
          "base_uri": "https://localhost:8080/"
        },
        "id": "5d6lNehIOeor",
        "outputId": "4ba80628-cb4b-4ca8-ab25-92d943838c6d",
        "scrolled": true
      },
      "outputs": [
        {
          "output_type": "stream",
          "name": "stdout",
          "text": [
            "Training Features shape:  (307511, 227)\n",
            "Testing Features shape:  (48744, 226)\n"
          ]
        }
      ],
      "source": [
        "print('Training Features shape: ', train.shape)\n",
        "print('Testing Features shape: ', test.shape)"
      ]
    },
    {
      "cell_type": "markdown",
      "metadata": {
        "id": "0OSQi7lb6Jgh"
      },
      "source": [
        "# Analysis and Feature Engineering"
      ]
    },
    {
      "cell_type": "code",
      "execution_count": 23,
      "metadata": {
        "colab": {
          "base_uri": "https://localhost:8080/"
        },
        "id": "OnWiSCPLOeot",
        "outputId": "e3dc9b7b-3f77-4c36-8bf3-24e04e8cf78a"
      },
      "outputs": [
        {
          "output_type": "execute_result",
          "data": {
            "text/plain": [
              "count    307511.000000\n",
              "mean         43.936973\n",
              "std          11.956133\n",
              "min          20.517808\n",
              "25%          34.008219\n",
              "50%          43.150685\n",
              "75%          53.923288\n",
              "max          69.120548\n",
              "Name: DAYS_BIRTH, dtype: float64"
            ]
          },
          "metadata": {},
          "execution_count": 23
        }
      ],
      "source": [
        "(train['DAYS_BIRTH']/-365).describe()"
      ]
    },
    {
      "cell_type": "code",
      "execution_count": 24,
      "metadata": {
        "colab": {
          "base_uri": "https://localhost:8080/",
          "height": 459
        },
        "id": "cNaJooOzOeov",
        "outputId": "7e582a54-daae-47d0-aa3d-b651a11fb73c"
      },
      "outputs": [
        {
          "output_type": "execute_result",
          "data": {
            "text/plain": [
              "Text(0.5, 0, 'Age of the client (Years)')"
            ]
          },
          "metadata": {},
          "execution_count": 24
        },
        {
          "output_type": "display_data",
          "data": {
            "text/plain": [
              "<Figure size 864x504 with 1 Axes>"
            ],
            "image/png": "[encoded data removed]"
          },
          "metadata": {
            "needs_background": "light"
          }
        }
      ],
      "source": [
        "fig, ax = plt.subplots(figsize =(12,7))\n",
        "sns.distplot(train['DAYS_BIRTH']/-365,bins=5,kde=False)\n",
        "plt.xlabel(\"Age of the client (Years)\")"
      ]
    },
    {
      "cell_type": "code",
      "execution_count": 25,
      "metadata": {
        "colab": {
          "base_uri": "https://localhost:8080/"
        },
        "id": "kdsJ7ki1Oeow",
        "outputId": "c707412d-ca9f-44bb-9c05-bac900ccdb3c"
      },
      "outputs": [
        {
          "output_type": "execute_result",
          "data": {
            "text/plain": [
              "count    307511.000000\n",
              "mean        174.835742\n",
              "std         387.056895\n",
              "min         -49.073973\n",
              "25%          -7.561644\n",
              "50%          -3.323288\n",
              "75%          -0.791781\n",
              "max        1000.665753\n",
              "Name: DAYS_EMPLOYED, dtype: float64"
            ]
          },
          "metadata": {},
          "execution_count": 25
        }
      ],
      "source": [
        "(train['DAYS_EMPLOYED']/365).describe()"
      ]
    },
    {
      "cell_type": "code",
      "execution_count": 26,
      "metadata": {
        "colab": {
          "base_uri": "https://localhost:8080/",
          "height": 461
        },
        "id": "KAc0Ev4aOeoy",
        "outputId": "960e738c-6645-42ac-a2c9-079fda5885d6"
      },
      "outputs": [
        {
          "output_type": "execute_result",
          "data": {
            "text/plain": [
              "Text(0.5, 0, 'Thời gian mà người này bắt đầu công việc hiện tại (tính bằng năm)')"
            ]
          },
          "metadata": {},
          "execution_count": 26
        },
        {
          "output_type": "display_data",
          "data": {
            "text/plain": [
              "<Figure size 864x504 with 1 Axes>"
            ],
            "image/png": "[encoded data removed]"
          },
          "metadata": {
            "needs_background": "light"
          }
        }
      ],
      "source": [
        "fig, ax = plt.subplots(figsize=(12,7))\n",
        "sns.distplot(train['DAYS_EMPLOYED']/365,kde=False)\n",
        "plt.xlabel(\"Thời gian mà người này bắt đầu công việc hiện tại (tính bằng năm)\")"
      ]
    },
    {
      "cell_type": "code",
      "execution_count": 27,
      "metadata": {
        "colab": {
          "base_uri": "https://localhost:8080/"
        },
        "id": "3PIbqZ1POeo0",
        "outputId": "9268dc88-9d02-4bc9-fa4f-f661d08b5646"
      },
      "outputs": [
        {
          "output_type": "execute_result",
          "data": {
            "text/plain": [
              "55374"
            ]
          },
          "metadata": {},
          "execution_count": 27
        }
      ],
      "source": [
        "thousand_anomalies = train[(train['DAYS_EMPLOYED']/365>=900) & (train['DAYS_EMPLOYED']/365<=1100)]\n",
        "len(thousand_anomalies)"
      ]
    },
    {
      "cell_type": "code",
      "execution_count": 28,
      "metadata": {
        "colab": {
          "base_uri": "https://localhost:8080/",
          "height": 459
        },
        "id": "wThadjSZOeo2",
        "outputId": "2ce69804-e2fe-419f-d538-410ebe40b6f8"
      },
      "outputs": [
        {
          "output_type": "execute_result",
          "data": {
            "text/plain": [
              "<matplotlib.axes._subplots.AxesSubplot at 0x7f265a20e110>"
            ]
          },
          "metadata": {},
          "execution_count": 28
        },
        {
          "output_type": "display_data",
          "data": {
            "text/plain": [
              "<Figure size 864x504 with 1 Axes>"
            ],
            "image/png": "[encoded data removed]"
          },
          "metadata": {
            "needs_background": "light"
          }
        }
      ],
      "source": [
        "fig, ax = plt.subplots(figsize=(12,7))\n",
        "sns.countplot(x='TARGET',data=thousand_anomalies)"
      ]
    },
    {
      "cell_type": "code",
      "execution_count": 29,
      "metadata": {
        "id": "PoSFEHPqOeo4"
      },
      "outputs": [],
      "source": [
        "# Lấy index of anomalies and non anomalies\n",
        "anomalies_index = pd.Index(thousand_anomalies.index)\n",
        "non_anomalies_index = train.index.difference(anomalies_index)"
      ]
    },
    {
      "cell_type": "code",
      "execution_count": 30,
      "metadata": {
        "id": "RBn1o8NNOeo6"
      },
      "outputs": [],
      "source": [
        "# get the anomalies records\n",
        "non_anomalies = train.iloc[non_anomalies_index]"
      ]
    },
    {
      "cell_type": "code",
      "execution_count": 31,
      "metadata": {
        "id": "Ot9J8VW0Oeo7"
      },
      "outputs": [],
      "source": [
        "# get the anomaly targets\n",
        "anomalies_target = thousand_anomalies['TARGET'].value_counts()\n",
        "non_anomalies_target = non_anomalies['TARGET'].value_counts()"
      ]
    },
    {
      "cell_type": "code",
      "execution_count": 32,
      "metadata": {
        "colab": {
          "base_uri": "https://localhost:8080/"
        },
        "id": "yPda9WAFOeo8",
        "outputId": "453c93ba-f5c6-46e8-c52a-67a3428d39e8"
      },
      "outputs": [
        {
          "output_type": "stream",
          "name": "stdout",
          "text": [
            "Anomalies have a default rate of 5.399646043269405%\n",
            "Non Anomalies have a default rate of 8.659974537652149%\n"
          ]
        }
      ],
      "source": [
        "# find the default rate for anomalies and non anomalies\n",
        "\n",
        "print(\"Anomalies have a default rate of {}%\".format(100*anomalies_target[1]/(anomalies_target[1]+anomalies_target[0])))\n",
        "print(\"Non Anomalies have a default rate of {}%\".format(100*non_anomalies_target[1]/(non_anomalies_target[1]+non_anomalies_target[0])))"
      ]
    },
    {
      "cell_type": "code",
      "execution_count": 33,
      "metadata": {
        "id": "g6_kToz3Oeo_"
      },
      "outputs": [],
      "source": [
        "# Create an anomalous flag column\n",
        "train['DAYS_EMPLOYED_ANOM'] = train[\"DAYS_EMPLOYED\"] == 365243\n",
        "\n",
        "# Replace the anomalous values with nan\n",
        "train['DAYS_EMPLOYED'] = train['DAYS_EMPLOYED'].replace({365243: np.nan})"
      ]
    },
    {
      "cell_type": "code",
      "execution_count": 34,
      "metadata": {
        "colab": {
          "base_uri": "https://localhost:8080/",
          "height": 530
        },
        "id": "gjHjpjZGOepA",
        "outputId": "d3ac9f31-f9ae-4b6c-eb70-776c214dbf66"
      },
      "outputs": [
        {
          "output_type": "execute_result",
          "data": {
            "text/plain": [
              "Text(0.5, 0, 'Years worked before application')"
            ]
          },
          "metadata": {},
          "execution_count": 34
        },
        {
          "output_type": "display_data",
          "data": {
            "text/plain": [
              "<Figure size 864x576 with 1 Axes>"
            ],
            "image/png": "[encoded data removed]"
          },
          "metadata": {
            "needs_background": "light"
          }
        }
      ],
      "source": [
        "# Looking at the years employed for anomalies\n",
        "\n",
        "plt.figure(figsize=(12,8))\n",
        "(train['DAYS_EMPLOYED']/-365).plot.hist(title = 'Years Employment Histogram')\n",
        "plt.xlabel(\"Years worked before application\")"
      ]
    },
    {
      "cell_type": "code",
      "execution_count": 35,
      "metadata": {
        "id": "Gm68lnRpOepD"
      },
      "outputs": [],
      "source": [
        "# Create an anomalous flag column\n",
        "test['DAYS_EMPLOYED_ANOM'] = test[\"DAYS_EMPLOYED\"] == 365243\n",
        "\n",
        "# Replace the anomalous values with nan\n",
        "test['DAYS_EMPLOYED'] = test['DAYS_EMPLOYED'].replace({365243: np.nan})"
      ]
    },
    {
      "cell_type": "code",
      "execution_count": 36,
      "metadata": {
        "id": "VuS_dwdjOepE"
      },
      "outputs": [],
      "source": [
        "# Finding out the most correlated features for the TARGET variable. \n",
        "corr_train = train.corr()['TARGET']"
      ]
    },
    {
      "cell_type": "code",
      "execution_count": 37,
      "metadata": {
        "colab": {
          "base_uri": "https://localhost:8080/"
        },
        "id": "22_BjrOhOepF",
        "outputId": "f7227e8b-f577-41f3-d2d5-f9e3be7c450d",
        "scrolled": true
      },
      "outputs": [
        {
          "output_type": "stream",
          "name": "stdout",
          "text": [
            "REG_CITY_NOT_WORK_CITY         0.050994\n",
            "DAYS_ID_PUBLISH                0.051457\n",
            "CODE_GENDER_M                  0.054713\n",
            "DAYS_LAST_PHONE_CHANGE         0.055218\n",
            "NAME_INCOME_TYPE_Working       0.057481\n",
            "REGION_RATING_CLIENT           0.058899\n",
            "REGION_RATING_CLIENT_W_CITY    0.060893\n",
            "DAYS_EMPLOYED                  0.074958\n",
            "DAYS_BIRTH                     0.078239\n",
            "TARGET                         1.000000\n",
            "Name: TARGET, dtype: float64\n"
          ]
        },
        {
          "output_type": "execute_result",
          "data": {
            "text/plain": [
              "EXT_SOURCE_3                           -0.178919\n",
              "EXT_SOURCE_2                           -0.160472\n",
              "EXT_SOURCE_1                           -0.155317\n",
              "NAME_EDUCATION_TYPE_Higher education   -0.056593\n",
              "NAME_INCOME_TYPE_Pensioner             -0.046209\n",
              "DAYS_EMPLOYED_ANOM                     -0.045987\n",
              "ORGANIZATION_TYPE_XNA                  -0.045987\n",
              "FLOORSMAX_AVG                          -0.044003\n",
              "FLOORSMAX_MEDI                         -0.043768\n",
              "FLOORSMAX_MODE                         -0.043226\n",
              "Name: TARGET, dtype: float64"
            ]
          },
          "metadata": {},
          "execution_count": 37
        }
      ],
      "source": [
        "print(corr_train.sort_values().tail(10))\n",
        "corr_train.sort_values().head(10)"
      ]
    },
    {
      "cell_type": "markdown",
      "metadata": {
        "id": "27MP1Wn5OepH"
      },
      "source": [
        "# Filling up the missing values for the most correlated variables"
      ]
    },
    {
      "cell_type": "code",
      "execution_count": 38,
      "metadata": {
        "id": "snxSvdWEOepI"
      },
      "outputs": [],
      "source": [
        "from sklearn.impute import SimpleImputer"
      ]
    },
    {
      "cell_type": "code",
      "execution_count": 39,
      "metadata": {
        "id": "sNeq6Dn8OepK"
      },
      "outputs": [],
      "source": [
        "poly_fitting_vars = ['EXT_SOURCE_3', 'EXT_SOURCE_2', 'EXT_SOURCE_1','DAYS_BIRTH']"
      ]
    },
    {
      "cell_type": "code",
      "execution_count": 40,
      "metadata": {
        "id": "8VXH7MT7OepL"
      },
      "outputs": [],
      "source": [
        "imputer = SimpleImputer(missing_values= np.nan, strategy='median')"
      ]
    },
    {
      "cell_type": "code",
      "execution_count": 41,
      "metadata": {
        "id": "HZeb_0p7OepN"
      },
      "outputs": [],
      "source": [
        "train[poly_fitting_vars] = imputer.fit_transform(train[poly_fitting_vars])"
      ]
    },
    {
      "cell_type": "code",
      "execution_count": 42,
      "metadata": {
        "colab": {
          "base_uri": "https://localhost:8080/"
        },
        "id": "HH8b0GBmOepO",
        "outputId": "0b5c116f-93da-4bc9-a905-be4db2eb90df"
      },
      "outputs": [
        {
          "output_type": "execute_result",
          "data": {
            "text/plain": [
              "(307511, 4)"
            ]
          },
          "metadata": {},
          "execution_count": 42
        }
      ],
      "source": [
        "train[poly_fitting_vars].shape"
      ]
    },
    {
      "cell_type": "code",
      "execution_count": 43,
      "metadata": {
        "id": "P7bXvYk4OepQ"
      },
      "outputs": [],
      "source": [
        "test[poly_fitting_vars] = imputer.transform(test[poly_fitting_vars])"
      ]
    },
    {
      "cell_type": "code",
      "execution_count": 44,
      "metadata": {
        "colab": {
          "base_uri": "https://localhost:8080/"
        },
        "id": "bNRphORPOepR",
        "outputId": "284d927e-c6d2-49d1-eddb-7555f857a8e2"
      },
      "outputs": [
        {
          "output_type": "execute_result",
          "data": {
            "text/plain": [
              "(48744, 4)"
            ]
          },
          "metadata": {},
          "execution_count": 44
        }
      ],
      "source": [
        "test[poly_fitting_vars].shape"
      ]
    },
    {
      "cell_type": "code",
      "execution_count": 45,
      "metadata": {
        "id": "scqr5_UQOepT"
      },
      "outputs": [],
      "source": [
        "from sklearn.preprocessing import PolynomialFeatures"
      ]
    },
    {
      "cell_type": "code",
      "execution_count": 46,
      "metadata": {
        "id": "AimAlpooOepU"
      },
      "outputs": [],
      "source": [
        "poly_feat = PolynomialFeatures(degree=4)"
      ]
    },
    {
      "cell_type": "code",
      "execution_count": 47,
      "metadata": {
        "id": "ydI53BqzOepV"
      },
      "outputs": [],
      "source": [
        "poly_interaction_train = poly_feat.fit_transform(train[poly_fitting_vars])"
      ]
    },
    {
      "cell_type": "code",
      "execution_count": 48,
      "metadata": {
        "colab": {
          "base_uri": "https://localhost:8080/"
        },
        "id": "Ggd598AIOepX",
        "outputId": "059f3e4f-6501-4d7e-ddd4-a4585bc15dc9"
      },
      "outputs": [
        {
          "output_type": "execute_result",
          "data": {
            "text/plain": [
              "(307511, 70)"
            ]
          },
          "metadata": {},
          "execution_count": 48
        }
      ],
      "source": [
        "poly_interaction_train.shape"
      ]
    },
    {
      "cell_type": "code",
      "execution_count": 49,
      "metadata": {
        "id": "lRsHikfoOepY"
      },
      "outputs": [],
      "source": [
        "poly_interaction_test = poly_feat.fit_transform(test[poly_fitting_vars])"
      ]
    },
    {
      "cell_type": "code",
      "execution_count": 50,
      "metadata": {
        "colab": {
          "base_uri": "https://localhost:8080/"
        },
        "id": "5bs00cbfOepZ",
        "outputId": "2f27c9cb-7713-4bda-ebef-3d393a516cdc"
      },
      "outputs": [
        {
          "output_type": "execute_result",
          "data": {
            "text/plain": [
              "(48744, 70)"
            ]
          },
          "metadata": {},
          "execution_count": 50
        }
      ],
      "source": [
        "poly_interaction_test.shape"
      ]
    },
    {
      "cell_type": "code",
      "execution_count": 51,
      "metadata": {
        "id": "nBDbqxijOepb"
      },
      "outputs": [],
      "source": [
        "poly_interaction_train = pd.DataFrame(poly_interaction_train,columns=poly_feat.get_feature_names(poly_fitting_vars))"
      ]
    },
    {
      "cell_type": "code",
      "execution_count": 52,
      "metadata": {
        "colab": {
          "base_uri": "https://localhost:8080/"
        },
        "id": "0iIi4Qi8Oepc",
        "outputId": "55b68fa5-a6d2-40fa-918f-bccdd18b7fae"
      },
      "outputs": [
        {
          "output_type": "execute_result",
          "data": {
            "text/plain": [
              "(307511, 70)"
            ]
          },
          "metadata": {},
          "execution_count": 52
        }
      ],
      "source": [
        "poly_interaction_train.shape"
      ]
    },
    {
      "cell_type": "code",
      "execution_count": 53,
      "metadata": {
        "id": "q6AyYzXcOepe"
      },
      "outputs": [],
      "source": [
        "poly_interaction_test =  pd.DataFrame(poly_interaction_test,columns=poly_feat.get_feature_names(poly_fitting_vars))"
      ]
    },
    {
      "cell_type": "code",
      "execution_count": 54,
      "metadata": {
        "colab": {
          "base_uri": "https://localhost:8080/"
        },
        "id": "x4BaNzdxOepg",
        "outputId": "f33bd347-ea64-44c2-ac56-4a1cbe9f8720"
      },
      "outputs": [
        {
          "output_type": "execute_result",
          "data": {
            "text/plain": [
              "(48744, 70)"
            ]
          },
          "metadata": {},
          "execution_count": 54
        }
      ],
      "source": [
        "poly_interaction_test.shape"
      ]
    },
    {
      "cell_type": "markdown",
      "metadata": {
        "collapsed": true,
        "id": "-FKivo_HOeph"
      },
      "source": [
        "## Add the 'TARGET' column"
      ]
    },
    {
      "cell_type": "code",
      "execution_count": 55,
      "metadata": {
        "id": "Bx_1buh5Oepj"
      },
      "outputs": [],
      "source": [
        "poly_interaction_train['TARGET'] = train['TARGET']"
      ]
    },
    {
      "cell_type": "code",
      "execution_count": 56,
      "metadata": {
        "id": "mMoeDd6kOepk"
      },
      "outputs": [],
      "source": [
        "interaction = poly_interaction_train.corr()['TARGET'].sort_values()"
      ]
    },
    {
      "cell_type": "markdown",
      "metadata": {
        "id": "5arPYekkOepl"
      },
      "source": [
        "## Variables have a strong correlation"
      ]
    },
    {
      "cell_type": "code",
      "execution_count": 57,
      "metadata": {
        "colab": {
          "base_uri": "https://localhost:8080/"
        },
        "id": "SiyunN4vOepn",
        "outputId": "21fa86d7-f34a-49f7-ea26-8721566e0548",
        "scrolled": true
      },
      "outputs": [
        {
          "output_type": "stream",
          "name": "stdout",
          "text": [
            "EXT_SOURCE_2^3 DAYS_BIRTH                            0.140230\n",
            "EXT_SOURCE_3^2 DAYS_BIRTH                            0.141777\n",
            "EXT_SOURCE_3^2 EXT_SOURCE_1 DAYS_BIRTH               0.144206\n",
            "EXT_SOURCE_2^2 DAYS_BIRTH                            0.149313\n",
            "EXT_SOURCE_2^2 EXT_SOURCE_1 DAYS_BIRTH               0.149813\n",
            "EXT_SOURCE_3 DAYS_BIRTH                              0.150109\n",
            "EXT_SOURCE_3 EXT_SOURCE_1 DAYS_BIRTH                 0.151816\n",
            "EXT_SOURCE_2 EXT_SOURCE_1 DAYS_BIRTH                 0.155891\n",
            "EXT_SOURCE_2 DAYS_BIRTH                              0.156873\n",
            "EXT_SOURCE_3^2 EXT_SOURCE_2 DAYS_BIRTH               0.164466\n",
            "EXT_SOURCE_3 EXT_SOURCE_2^2 DAYS_BIRTH               0.168159\n",
            "EXT_SOURCE_3 EXT_SOURCE_2 EXT_SOURCE_1 DAYS_BIRTH    0.174173\n",
            "EXT_SOURCE_3 EXT_SOURCE_2 DAYS_BIRTH                 0.181283\n",
            "TARGET                                               1.000000\n",
            "1                                                         NaN\n",
            "Name: TARGET, dtype: float64\n"
          ]
        },
        {
          "output_type": "execute_result",
          "data": {
            "text/plain": [
              "EXT_SOURCE_3 EXT_SOURCE_2                  -0.193939\n",
              "EXT_SOURCE_3 EXT_SOURCE_2 EXT_SOURCE_1     -0.189605\n",
              "EXT_SOURCE_3 EXT_SOURCE_2^2                -0.176428\n",
              "EXT_SOURCE_3 EXT_SOURCE_2^2 EXT_SOURCE_1   -0.174534\n",
              "EXT_SOURCE_3^2 EXT_SOURCE_2                -0.172282\n",
              "EXT_SOURCE_3^2 EXT_SOURCE_2 EXT_SOURCE_1   -0.170938\n",
              "EXT_SOURCE_2 EXT_SOURCE_1                  -0.166625\n",
              "EXT_SOURCE_3 EXT_SOURCE_1                  -0.164065\n",
              "EXT_SOURCE_3^2 EXT_SOURCE_2^2              -0.162923\n",
              "EXT_SOURCE_3 EXT_SOURCE_2^3                -0.161994\n",
              "EXT_SOURCE_3 EXT_SOURCE_2 EXT_SOURCE_1^2   -0.160677\n",
              "EXT_SOURCE_2                               -0.160295\n",
              "EXT_SOURCE_2^2 EXT_SOURCE_1                -0.156867\n",
              "EXT_SOURCE_3                               -0.155892\n",
              "EXT_SOURCE_3 EXT_SOURCE_2 DAYS_BIRTH^2     -0.154886\n",
              "Name: TARGET, dtype: float64"
            ]
          },
          "metadata": {},
          "execution_count": 57
        }
      ],
      "source": [
        "print(interaction.tail(15))\n",
        "(interaction.head(15))"
      ]
    },
    {
      "cell_type": "markdown",
      "metadata": {
        "id": "BfNd6ePLOepo"
      },
      "source": [
        "## Get the names of the columns which have the highest correlation"
      ]
    },
    {
      "cell_type": "code",
      "execution_count": 58,
      "metadata": {
        "colab": {
          "base_uri": "https://localhost:8080/"
        },
        "id": "fZ9uIfYrOepq",
        "outputId": "06ae70f8-3b29-4d59-b474-c4919d4d0e49",
        "scrolled": false
      },
      "outputs": [
        {
          "output_type": "execute_result",
          "data": {
            "text/plain": [
              "{'EXT_SOURCE_2',\n",
              " 'EXT_SOURCE_2 DAYS_BIRTH',\n",
              " 'EXT_SOURCE_2 EXT_SOURCE_1',\n",
              " 'EXT_SOURCE_2 EXT_SOURCE_1 DAYS_BIRTH',\n",
              " 'EXT_SOURCE_2^2 DAYS_BIRTH',\n",
              " 'EXT_SOURCE_2^2 EXT_SOURCE_1',\n",
              " 'EXT_SOURCE_2^2 EXT_SOURCE_1 DAYS_BIRTH',\n",
              " 'EXT_SOURCE_2^3 DAYS_BIRTH',\n",
              " 'EXT_SOURCE_3',\n",
              " 'EXT_SOURCE_3 DAYS_BIRTH',\n",
              " 'EXT_SOURCE_3 EXT_SOURCE_1',\n",
              " 'EXT_SOURCE_3 EXT_SOURCE_1 DAYS_BIRTH',\n",
              " 'EXT_SOURCE_3 EXT_SOURCE_2',\n",
              " 'EXT_SOURCE_3 EXT_SOURCE_2 DAYS_BIRTH',\n",
              " 'EXT_SOURCE_3 EXT_SOURCE_2 DAYS_BIRTH^2',\n",
              " 'EXT_SOURCE_3 EXT_SOURCE_2 EXT_SOURCE_1',\n",
              " 'EXT_SOURCE_3 EXT_SOURCE_2 EXT_SOURCE_1 DAYS_BIRTH',\n",
              " 'EXT_SOURCE_3 EXT_SOURCE_2 EXT_SOURCE_1^2',\n",
              " 'EXT_SOURCE_3 EXT_SOURCE_2^2',\n",
              " 'EXT_SOURCE_3 EXT_SOURCE_2^2 DAYS_BIRTH',\n",
              " 'EXT_SOURCE_3 EXT_SOURCE_2^2 EXT_SOURCE_1',\n",
              " 'EXT_SOURCE_3 EXT_SOURCE_2^3',\n",
              " 'EXT_SOURCE_3^2 DAYS_BIRTH',\n",
              " 'EXT_SOURCE_3^2 EXT_SOURCE_1 DAYS_BIRTH',\n",
              " 'EXT_SOURCE_3^2 EXT_SOURCE_2',\n",
              " 'EXT_SOURCE_3^2 EXT_SOURCE_2 DAYS_BIRTH',\n",
              " 'EXT_SOURCE_3^2 EXT_SOURCE_2 EXT_SOURCE_1',\n",
              " 'EXT_SOURCE_3^2 EXT_SOURCE_2^2'}"
            ]
          },
          "metadata": {},
          "execution_count": 58
        }
      ],
      "source": [
        "set(interaction.head(15).index).union(interaction.tail(15).index).difference(set({'1','TARGET'}))"
      ]
    },
    {
      "cell_type": "markdown",
      "metadata": {
        "id": "xQcMhLsOOepr"
      },
      "source": [
        "## Choose the selected columns which have highest correlation to 'TARGET'"
      ]
    },
    {
      "cell_type": "code",
      "execution_count": 59,
      "metadata": {
        "id": "L_1vKim0Oeps"
      },
      "outputs": [],
      "source": [
        "selected_inter_variables = list(set(interaction.head(15).index).union(interaction.tail(15).index).difference(set({'1','TARGET'})))"
      ]
    },
    {
      "cell_type": "code",
      "execution_count": 60,
      "metadata": {
        "colab": {
          "base_uri": "https://localhost:8080/",
          "height": 352
        },
        "id": "CAkKcnd3Oepu",
        "outputId": "fee1722d-bfca-49ae-de8d-906308bc66d6"
      },
      "outputs": [
        {
          "output_type": "execute_result",
          "data": {
            "text/plain": [
              "   EXT_SOURCE_3  EXT_SOURCE_2 EXT_SOURCE_1 DAYS_BIRTH  \\\n",
              "0      0.139376                           -206.575767   \n",
              "1      0.535276                          -3247.125160   \n",
              "2      0.729567                          -5357.456268   \n",
              "3      0.535276                          -6254.966447   \n",
              "4      0.535276                          -3254.993372   \n",
              "\n",
              "   EXT_SOURCE_2^2 EXT_SOURCE_1 DAYS_BIRTH  EXT_SOURCE_3^2 EXT_SOURCE_2^2  \\\n",
              "0                              -54.318807                       0.001343   \n",
              "1                            -2020.509913                       0.110938   \n",
              "2                            -2978.274675                       0.164491   \n",
              "3                            -4068.490949                       0.121220   \n",
              "4                            -1050.510985                       0.029844   \n",
              "\n",
              "   EXT_SOURCE_2^2 EXT_SOURCE_1  EXT_SOURCE_3^2 EXT_SOURCE_1 DAYS_BIRTH  \\\n",
              "0                     0.005741                              -15.261005   \n",
              "1                     0.120520                            -1495.178425   \n",
              "2                     0.156373                            -5129.588365   \n",
              "3                     0.214075                            -2755.323295   \n",
              "4                     0.052705                            -2889.718701   \n",
              "\n",
              "   EXT_SOURCE_3 EXT_SOURCE_2 EXT_SOURCE_1 DAYS_BIRTH  \\\n",
              "0                                         -28.791659   \n",
              "1                                       -1738.108981   \n",
              "2                                       -3908.621640   \n",
              "3                                       -3348.134986   \n",
              "4                                       -1742.320648   \n",
              "\n",
              "   EXT_SOURCE_3 EXT_SOURCE_1 DAYS_BIRTH  \\\n",
              "0                           -109.495390   \n",
              "1                          -2793.283699   \n",
              "2                          -7031.006802   \n",
              "3                          -5147.479068   \n",
              "4                          -5398.555790   \n",
              "\n",
              "   EXT_SOURCE_3^2 EXT_SOURCE_2 DAYS_BIRTH  \\\n",
              "0                              -48.326185   \n",
              "1                            -2988.969365   \n",
              "2                            -5635.596478   \n",
              "3                            -3541.866544   \n",
              "4                            -1843.135727   \n",
              "\n",
              "   EXT_SOURCE_3 EXT_SOURCE_2 DAYS_BIRTH  ...  \\\n",
              "0                           -346.733022  ...   \n",
              "1                          -5583.975307  ...   \n",
              "2                          -7724.580288  ...   \n",
              "3                          -6616.894625  ...   \n",
              "4                          -3443.335521  ...   \n",
              "\n",
              "   EXT_SOURCE_3^2 EXT_SOURCE_2 EXT_SOURCE_1  EXT_SOURCE_3 EXT_SOURCE_1  \\\n",
              "0                                  0.000424                   0.011573   \n",
              "1                                  0.055495                   0.166614   \n",
              "2                                  0.149722                   0.369159   \n",
              "3                                  0.094300                   0.270849   \n",
              "4                                  0.046790                   0.270849   \n",
              "\n",
              "   EXT_SOURCE_3 EXT_SOURCE_2  EXT_SOURCE_2 EXT_SOURCE_1  \\\n",
              "0                   0.036649                   0.021834   \n",
              "1                   0.333073                   0.193685   \n",
              "2                   0.405575                   0.281290   \n",
              "3                   0.348166                   0.329122   \n",
              "4                   0.172754                   0.163305   \n",
              "\n",
              "   EXT_SOURCE_2 DAYS_BIRTH  EXT_SOURCE_3 EXT_SOURCE_2 EXT_SOURCE_1  \\\n",
              "0             -2487.756636                                0.003043   \n",
              "1            -10431.950422                                0.103675   \n",
              "2            -10587.901540                                0.205220   \n",
              "3            -12361.644326                                0.176171   \n",
              "4             -6432.819536                                0.087413   \n",
              "\n",
              "   EXT_SOURCE_3 EXT_SOURCE_2^2 DAYS_BIRTH  EXT_SOURCE_3 DAYS_BIRTH  \\\n",
              "0                              -91.172960             -1318.634256   \n",
              "1                            -3474.605044             -8973.906339   \n",
              "2                            -4294.187521            -13895.327191   \n",
              "3                            -4303.904125            -10172.925140   \n",
              "4                            -1111.296208            -10669.126224   \n",
              "\n",
              "   EXT_SOURCE_3^2 DAYS_BIRTH  EXT_SOURCE_3 EXT_SOURCE_2^2  \n",
              "0                -183.785678                     0.009637  \n",
              "1               -4803.518937                     0.207254  \n",
              "2              -10137.567875                     0.225464  \n",
              "3               -5445.325225                     0.226462  \n",
              "4               -5710.929881                     0.055754  \n",
              "\n",
              "[5 rows x 28 columns]"
            ],
            "text/html": [
              "\n",
              "  <div id=\"df-74a63d46-2da1-4b40-a2de-ed94cb4c45c2\">\n",
              "    <div class=\"colab-df-container\">\n",
              "      <div>\n",
              "<style scoped>\n",
              "    .dataframe tbody tr th:only-of-type {\n",
              "        vertical-align: middle;\n",
              "    }\n",
              "\n",
              "    .dataframe tbody tr th {\n",
              "        vertical-align: top;\n",
              "    }\n",
              "\n",
              "    .dataframe thead th {\n",
              "        text-align: right;\n",
              "    }\n",
              "</style>\n",
              "<table border=\"1\" class=\"dataframe\">\n",
              "  <thead>\n",
              "    <tr style=\"text-align: right;\">\n",
              "      <th></th>\n",
              "      <th>EXT_SOURCE_3</th>\n",
              "      <th>EXT_SOURCE_2 EXT_SOURCE_1 DAYS_BIRTH</th>\n",
              "      <th>EXT_SOURCE_2^2 EXT_SOURCE_1 DAYS_BIRTH</th>\n",
              "      <th>EXT_SOURCE_3^2 EXT_SOURCE_2^2</th>\n",
              "      <th>EXT_SOURCE_2^2 EXT_SOURCE_1</th>\n",
              "      <th>EXT_SOURCE_3^2 EXT_SOURCE_1 DAYS_BIRTH</th>\n",
              "      <th>EXT_SOURCE_3 EXT_SOURCE_2 EXT_SOURCE_1 DAYS_BIRTH</th>\n",
              "      <th>EXT_SOURCE_3 EXT_SOURCE_1 DAYS_BIRTH</th>\n",
              "      <th>EXT_SOURCE_3^2 EXT_SOURCE_2 DAYS_BIRTH</th>\n",
              "      <th>EXT_SOURCE_3 EXT_SOURCE_2 DAYS_BIRTH</th>\n",
              "      <th>...</th>\n",
              "      <th>EXT_SOURCE_3^2 EXT_SOURCE_2 EXT_SOURCE_1</th>\n",
              "      <th>EXT_SOURCE_3 EXT_SOURCE_1</th>\n",
              "      <th>EXT_SOURCE_3 EXT_SOURCE_2</th>\n",
              "      <th>EXT_SOURCE_2 EXT_SOURCE_1</th>\n",
              "      <th>EXT_SOURCE_2 DAYS_BIRTH</th>\n",
              "      <th>EXT_SOURCE_3 EXT_SOURCE_2 EXT_SOURCE_1</th>\n",
              "      <th>EXT_SOURCE_3 EXT_SOURCE_2^2 DAYS_BIRTH</th>\n",
              "      <th>EXT_SOURCE_3 DAYS_BIRTH</th>\n",
              "      <th>EXT_SOURCE_3^2 DAYS_BIRTH</th>\n",
              "      <th>EXT_SOURCE_3 EXT_SOURCE_2^2</th>\n",
              "    </tr>\n",
              "  </thead>\n",
              "  <tbody>\n",
              "    <tr>\n",
              "      <th>0</th>\n",
              "      <td>0.139376</td>\n",
              "      <td>-206.575767</td>\n",
              "      <td>-54.318807</td>\n",
              "      <td>0.001343</td>\n",
              "      <td>0.005741</td>\n",
              "      <td>-15.261005</td>\n",
              "      <td>-28.791659</td>\n",
              "      <td>-109.495390</td>\n",
              "      <td>-48.326185</td>\n",
              "      <td>-346.733022</td>\n",
              "      <td>...</td>\n",
              "      <td>0.000424</td>\n",
              "      <td>0.011573</td>\n",
              "      <td>0.036649</td>\n",
              "      <td>0.021834</td>\n",
              "      <td>-2487.756636</td>\n",
              "      <td>0.003043</td>\n",
              "      <td>-91.172960</td>\n",
              "      <td>-1318.634256</td>\n",
              "      <td>-183.785678</td>\n",
              "      <td>0.009637</td>\n",
              "    </tr>\n",
              "    <tr>\n",
              "      <th>1</th>\n",
              "      <td>0.535276</td>\n",
              "      <td>-3247.125160</td>\n",
              "      <td>-2020.509913</td>\n",
              "      <td>0.110938</td>\n",
              "      <td>0.120520</td>\n",
              "      <td>-1495.178425</td>\n",
              "      <td>-1738.108981</td>\n",
              "      <td>-2793.283699</td>\n",
              "      <td>-2988.969365</td>\n",
              "      <td>-5583.975307</td>\n",
              "      <td>...</td>\n",
              "      <td>0.055495</td>\n",
              "      <td>0.166614</td>\n",
              "      <td>0.333073</td>\n",
              "      <td>0.193685</td>\n",
              "      <td>-10431.950422</td>\n",
              "      <td>0.103675</td>\n",
              "      <td>-3474.605044</td>\n",
              "      <td>-8973.906339</td>\n",
              "      <td>-4803.518937</td>\n",
              "      <td>0.207254</td>\n",
              "    </tr>\n",
              "    <tr>\n",
              "      <th>2</th>\n",
              "      <td>0.729567</td>\n",
              "      <td>-5357.456268</td>\n",
              "      <td>-2978.274675</td>\n",
              "      <td>0.164491</td>\n",
              "      <td>0.156373</td>\n",
              "      <td>-5129.588365</td>\n",
              "      <td>-3908.621640</td>\n",
              "      <td>-7031.006802</td>\n",
              "      <td>-5635.596478</td>\n",
              "      <td>-7724.580288</td>\n",
              "      <td>...</td>\n",
              "      <td>0.149722</td>\n",
              "      <td>0.369159</td>\n",
              "      <td>0.405575</td>\n",
              "      <td>0.281290</td>\n",
              "      <td>-10587.901540</td>\n",
              "      <td>0.205220</td>\n",
              "      <td>-4294.187521</td>\n",
              "      <td>-13895.327191</td>\n",
              "      <td>-10137.567875</td>\n",
              "      <td>0.225464</td>\n",
              "    </tr>\n",
              "    <tr>\n",
              "      <th>3</th>\n",
              "      <td>0.535276</td>\n",
              "      <td>-6254.966447</td>\n",
              "      <td>-4068.490949</td>\n",
              "      <td>0.121220</td>\n",
              "      <td>0.214075</td>\n",
              "      <td>-2755.323295</td>\n",
              "      <td>-3348.134986</td>\n",
              "      <td>-5147.479068</td>\n",
              "      <td>-3541.866544</td>\n",
              "      <td>-6616.894625</td>\n",
              "      <td>...</td>\n",
              "      <td>0.094300</td>\n",
              "      <td>0.270849</td>\n",
              "      <td>0.348166</td>\n",
              "      <td>0.329122</td>\n",
              "      <td>-12361.644326</td>\n",
              "      <td>0.176171</td>\n",
              "      <td>-4303.904125</td>\n",
              "      <td>-10172.925140</td>\n",
              "      <td>-5445.325225</td>\n",
              "      <td>0.226462</td>\n",
              "    </tr>\n",
              "    <tr>\n",
              "      <th>4</th>\n",
              "      <td>0.535276</td>\n",
              "      <td>-3254.993372</td>\n",
              "      <td>-1050.510985</td>\n",
              "      <td>0.029844</td>\n",
              "      <td>0.052705</td>\n",
              "      <td>-2889.718701</td>\n",
              "      <td>-1742.320648</td>\n",
              "      <td>-5398.555790</td>\n",
              "      <td>-1843.135727</td>\n",
              "      <td>-3443.335521</td>\n",
              "      <td>...</td>\n",
              "      <td>0.046790</td>\n",
              "      <td>0.270849</td>\n",
              "      <td>0.172754</td>\n",
              "      <td>0.163305</td>\n",
              "      <td>-6432.819536</td>\n",
              "      <td>0.087413</td>\n",
              "      <td>-1111.296208</td>\n",
              "      <td>-10669.126224</td>\n",
              "      <td>-5710.929881</td>\n",
              "      <td>0.055754</td>\n",
              "    </tr>\n",
              "  </tbody>\n",
              "</table>\n",
              "<p>5 rows × 28 columns</p>\n",
              "</div>\n",
              "      <button class=\"colab-df-convert\" onclick=\"convertToInteractive('df-74a63d46-2da1-4b40-a2de-ed94cb4c45c2')\"\n",
              "              title=\"Convert this dataframe to an interactive table.\"\n",
              "              style=\"display:none;\">\n",
              "        \n",
              "  <svg xmlns=\"http://www.w3.org/2000/svg\" height=\"24px\"viewBox=\"0 0 24 24\"\n",
              "       width=\"24px\">\n",
              "    <path d=\"M0 0h24v24H0V0z\" fill=\"none\"/>\n",
              "    <path d=\"M18.56 5.44l.94 2.06.94-2.06 2.06-.94-2.06-.94-.94-2.06-.94 2.06-2.06.94zm-11 1L8.5 8.5l.94-2.06 2.06-.94-2.06-.94L8.5 2.5l-.94 2.06-2.06.94zm10 10l.94 2.06.94-2.06 2.06-.94-2.06-.94-.94-2.06-.94 2.06-2.06.94z\"/><path d=\"M17.41 7.96l-1.37-1.37c-.4-.4-.92-.59-1.43-.59-.52 0-1.04.2-1.43.59L10.3 9.45l-7.72 7.72c-.78.78-.78 2.05 0 2.83L4 21.41c.39.39.9.59 1.41.59.51 0 1.02-.2 1.41-.59l7.78-7.78 2.81-2.81c.8-.78.8-2.07 0-2.86zM5.41 20L4 18.59l7.72-7.72 1.47 1.35L5.41 20z\"/>\n",
              "  </svg>\n",
              "      </button>\n",
              "      \n",
              "  <style>\n",
              "    .colab-df-container {\n",
              "      display:flex;\n",
              "      flex-wrap:wrap;\n",
              "      gap: 12px;\n",
              "    }\n",
              "\n",
              "    .colab-df-convert {\n",
              "      background-color: #E8F0FE;\n",
              "      border: none;\n",
              "      border-radius: 50%;\n",
              "      cursor: pointer;\n",
              "      display: none;\n",
              "      fill: #1967D2;\n",
              "      height: 32px;\n",
              "      padding: 0 0 0 0;\n",
              "      width: 32px;\n",
              "    }\n",
              "\n",
              "    .colab-df-convert:hover {\n",
              "      background-color: #E2EBFA;\n",
              "      box-shadow: 0px 1px 2px rgba(60, 64, 67, 0.3), 0px 1px 3px 1px rgba(60, 64, 67, 0.15);\n",
              "      fill: #174EA6;\n",
              "    }\n",
              "\n",
              "    [theme=dark] .colab-df-convert {\n",
              "      background-color: #3B4455;\n",
              "      fill: #D2E3FC;\n",
              "    }\n",
              "\n",
              "    [theme=dark] .colab-df-convert:hover {\n",
              "      background-color: #434B5C;\n",
              "      box-shadow: 0px 1px 3px 1px rgba(0, 0, 0, 0.15);\n",
              "      filter: drop-shadow(0px 1px 2px rgba(0, 0, 0, 0.3));\n",
              "      fill: #FFFFFF;\n",
              "    }\n",
              "  </style>\n",
              "\n",
              "      <script>\n",
              "        const buttonEl =\n",
              "          document.querySelector('#df-74a63d46-2da1-4b40-a2de-ed94cb4c45c2 button.colab-df-convert');\n",
              "        buttonEl.style.display =\n",
              "          google.colab.kernel.accessAllowed ? 'block' : 'none';\n",
              "\n",
              "        async function convertToInteractive(key) {\n",
              "          const element = document.querySelector('#df-74a63d46-2da1-4b40-a2de-ed94cb4c45c2');\n",
              "          const dataTable =\n",
              "            await google.colab.kernel.invokeFunction('convertToInteractive',\n",
              "                                                     [key], {});\n",
              "          if (!dataTable) return;\n",
              "\n",
              "          const docLinkHtml = 'Like what you see? Visit the ' +\n",
              "            '<a target=\"_blank\" href=https://colab.research.google.com/notebooks/data_table.ipynb>data table notebook</a>'\n",
              "            + ' to learn more about interactive tables.';\n",
              "          element.innerHTML = '';\n",
              "          dataTable['output_type'] = 'display_data';\n",
              "          await google.colab.output.renderOutput(dataTable, element);\n",
              "          const docLink = document.createElement('div');\n",
              "          docLink.innerHTML = docLinkHtml;\n",
              "          element.appendChild(docLink);\n",
              "        }\n",
              "      </script>\n",
              "    </div>\n",
              "  </div>\n",
              "  "
            ]
          },
          "metadata": {},
          "execution_count": 60
        }
      ],
      "source": [
        "poly_interaction_train[selected_inter_variables].head()"
      ]
    },
    {
      "cell_type": "code",
      "execution_count": 61,
      "metadata": {
        "colab": {
          "base_uri": "https://localhost:8080/",
          "height": 352
        },
        "id": "37XUinPCOepv",
        "outputId": "4ca36640-b1ce-4553-c4b7-6ee1e85fcb85"
      },
      "outputs": [
        {
          "output_type": "execute_result",
          "data": {
            "text/plain": [
              "   EXT_SOURCE_3  EXT_SOURCE_2 EXT_SOURCE_1 DAYS_BIRTH  \\\n",
              "0      0.159520                         -11435.028416   \n",
              "1      0.432962                          -2976.631403   \n",
              "2      0.610991                          -7095.269204   \n",
              "3      0.612704                          -3744.932912   \n",
              "4      0.535276                          -1122.099233   \n",
              "\n",
              "   EXT_SOURCE_2^2 EXT_SOURCE_1 DAYS_BIRTH  EXT_SOURCE_3^2 EXT_SOURCE_2^2  \\\n",
              "0                            -9029.719944                       0.015867   \n",
              "1                             -868.151015                       0.015946   \n",
              "2                            -4965.175946                       0.182811   \n",
              "3                            -1908.706472                       0.097520   \n",
              "4                             -477.663386                       0.051920   \n",
              "\n",
              "   EXT_SOURCE_2^2 EXT_SOURCE_1  EXT_SOURCE_3^2 EXT_SOURCE_1 DAYS_BIRTH  \\\n",
              "0                     0.469296                             -368.491942   \n",
              "1                     0.048060                            -1913.170762   \n",
              "2                     0.247788                            -3785.063810   \n",
              "3                     0.136570                            -2758.358532   \n",
              "4                     0.036631                             -755.260075   \n",
              "\n",
              "   EXT_SOURCE_3 EXT_SOURCE_2 EXT_SOURCE_1 DAYS_BIRTH  \\\n",
              "0                                       -1824.110478   \n",
              "1                                       -1288.767295   \n",
              "2                                       -4335.147954   \n",
              "3                                       -2294.536289   \n",
              "4                                        -600.633070   \n",
              "\n",
              "   EXT_SOURCE_3 EXT_SOURCE_1 DAYS_BIRTH  \\\n",
              "0                          -2310.011305   \n",
              "1                          -4418.799416   \n",
              "2                          -6194.955045   \n",
              "3                          -4501.941285   \n",
              "4                          -1410.972511   \n",
              "\n",
              "   EXT_SOURCE_3^2 EXT_SOURCE_2 DAYS_BIRTH  \\\n",
              "0                             -386.627243   \n",
              "1                             -987.604448   \n",
              "2                            -5234.681105   \n",
              "3                            -2674.113111   \n",
              "4                            -1590.465410   \n",
              "\n",
              "   EXT_SOURCE_3 EXT_SOURCE_2 DAYS_BIRTH  ...  \\\n",
              "0                          -2423.698322  ...   \n",
              "1                          -2281.043619  ...   \n",
              "2                          -8567.521115  ...   \n",
              "3                          -4364.443591  ...   \n",
              "4                          -2971.298294  ...   \n",
              "\n",
              "   EXT_SOURCE_3^2 EXT_SOURCE_2 EXT_SOURCE_1  EXT_SOURCE_3 EXT_SOURCE_1  \\\n",
              "0                                  0.015123                   0.120057   \n",
              "1                                  0.030889                   0.244619   \n",
              "2                                  0.132186                   0.309160   \n",
              "3                                  0.100592                   0.322119   \n",
              "4                                  0.024655                   0.108203   \n",
              "\n",
              "   EXT_SOURCE_3 EXT_SOURCE_2  EXT_SOURCE_2 EXT_SOURCE_1  \\\n",
              "0                   0.125965                   0.594305   \n",
              "1                   0.126276                   0.164783   \n",
              "2                   0.427564                   0.354091   \n",
              "3                   0.312281                   0.267955   \n",
              "4                   0.227860                   0.086051   \n",
              "\n",
              "   EXT_SOURCE_2 DAYS_BIRTH  EXT_SOURCE_3 EXT_SOURCE_2 EXT_SOURCE_1  \\\n",
              "0            -15193.739370                                0.094803   \n",
              "1             -5268.465530                                0.071345   \n",
              "2            -14022.328504                                0.216346   \n",
              "3             -7123.246872                                0.164177   \n",
              "4             -5550.962315                                0.046061   \n",
              "\n",
              "   EXT_SOURCE_3 EXT_SOURCE_2^2 DAYS_BIRTH  EXT_SOURCE_3 DAYS_BIRTH  \\\n",
              "0                            -1913.883926             -3069.315478   \n",
              "1                             -665.278990             -7821.019554   \n",
              "2                            -5995.438444            -12243.044232   \n",
              "3                            -2224.456866             -8563.154516   \n",
              "4                            -1264.843931             -6980.002306   \n",
              "\n",
              "   EXT_SOURCE_3^2 DAYS_BIRTH  EXT_SOURCE_3 EXT_SOURCE_2^2  \n",
              "0                -489.615795                     0.099469  \n",
              "1               -3386.201665                     0.036829  \n",
              "2               -7480.393855                     0.299203  \n",
              "3               -5246.681115                     0.159163  \n",
              "4               -3736.229463                     0.096997  \n",
              "\n",
              "[5 rows x 28 columns]"
            ],
            "text/html": [
              "\n",
              "  <div id=\"df-bf105e5e-4168-4fe3-99a6-732d43b9b3a6\">\n",
              "    <div class=\"colab-df-container\">\n",
              "      <div>\n",
              "<style scoped>\n",
              "    .dataframe tbody tr th:only-of-type {\n",
              "        vertical-align: middle;\n",
              "    }\n",
              "\n",
              "    .dataframe tbody tr th {\n",
              "        vertical-align: top;\n",
              "    }\n",
              "\n",
              "    .dataframe thead th {\n",
              "        text-align: right;\n",
              "    }\n",
              "</style>\n",
              "<table border=\"1\" class=\"dataframe\">\n",
              "  <thead>\n",
              "    <tr style=\"text-align: right;\">\n",
              "      <th></th>\n",
              "      <th>EXT_SOURCE_3</th>\n",
              "      <th>EXT_SOURCE_2 EXT_SOURCE_1 DAYS_BIRTH</th>\n",
              "      <th>EXT_SOURCE_2^2 EXT_SOURCE_1 DAYS_BIRTH</th>\n",
              "      <th>EXT_SOURCE_3^2 EXT_SOURCE_2^2</th>\n",
              "      <th>EXT_SOURCE_2^2 EXT_SOURCE_1</th>\n",
              "      <th>EXT_SOURCE_3^2 EXT_SOURCE_1 DAYS_BIRTH</th>\n",
              "      <th>EXT_SOURCE_3 EXT_SOURCE_2 EXT_SOURCE_1 DAYS_BIRTH</th>\n",
              "      <th>EXT_SOURCE_3 EXT_SOURCE_1 DAYS_BIRTH</th>\n",
              "      <th>EXT_SOURCE_3^2 EXT_SOURCE_2 DAYS_BIRTH</th>\n",
              "      <th>EXT_SOURCE_3 EXT_SOURCE_2 DAYS_BIRTH</th>\n",
              "      <th>...</th>\n",
              "      <th>EXT_SOURCE_3^2 EXT_SOURCE_2 EXT_SOURCE_1</th>\n",
              "      <th>EXT_SOURCE_3 EXT_SOURCE_1</th>\n",
              "      <th>EXT_SOURCE_3 EXT_SOURCE_2</th>\n",
              "      <th>EXT_SOURCE_2 EXT_SOURCE_1</th>\n",
              "      <th>EXT_SOURCE_2 DAYS_BIRTH</th>\n",
              "      <th>EXT_SOURCE_3 EXT_SOURCE_2 EXT_SOURCE_1</th>\n",
              "      <th>EXT_SOURCE_3 EXT_SOURCE_2^2 DAYS_BIRTH</th>\n",
              "      <th>EXT_SOURCE_3 DAYS_BIRTH</th>\n",
              "      <th>EXT_SOURCE_3^2 DAYS_BIRTH</th>\n",
              "      <th>EXT_SOURCE_3 EXT_SOURCE_2^2</th>\n",
              "    </tr>\n",
              "  </thead>\n",
              "  <tbody>\n",
              "    <tr>\n",
              "      <th>0</th>\n",
              "      <td>0.159520</td>\n",
              "      <td>-11435.028416</td>\n",
              "      <td>-9029.719944</td>\n",
              "      <td>0.015867</td>\n",
              "      <td>0.469296</td>\n",
              "      <td>-368.491942</td>\n",
              "      <td>-1824.110478</td>\n",
              "      <td>-2310.011305</td>\n",
              "      <td>-386.627243</td>\n",
              "      <td>-2423.698322</td>\n",
              "      <td>...</td>\n",
              "      <td>0.015123</td>\n",
              "      <td>0.120057</td>\n",
              "      <td>0.125965</td>\n",
              "      <td>0.594305</td>\n",
              "      <td>-15193.739370</td>\n",
              "      <td>0.094803</td>\n",
              "      <td>-1913.883926</td>\n",
              "      <td>-3069.315478</td>\n",
              "      <td>-489.615795</td>\n",
              "      <td>0.099469</td>\n",
              "    </tr>\n",
              "    <tr>\n",
              "      <th>1</th>\n",
              "      <td>0.432962</td>\n",
              "      <td>-2976.631403</td>\n",
              "      <td>-868.151015</td>\n",
              "      <td>0.015946</td>\n",
              "      <td>0.048060</td>\n",
              "      <td>-1913.170762</td>\n",
              "      <td>-1288.767295</td>\n",
              "      <td>-4418.799416</td>\n",
              "      <td>-987.604448</td>\n",
              "      <td>-2281.043619</td>\n",
              "      <td>...</td>\n",
              "      <td>0.030889</td>\n",
              "      <td>0.244619</td>\n",
              "      <td>0.126276</td>\n",
              "      <td>0.164783</td>\n",
              "      <td>-5268.465530</td>\n",
              "      <td>0.071345</td>\n",
              "      <td>-665.278990</td>\n",
              "      <td>-7821.019554</td>\n",
              "      <td>-3386.201665</td>\n",
              "      <td>0.036829</td>\n",
              "    </tr>\n",
              "    <tr>\n",
              "      <th>2</th>\n",
              "      <td>0.610991</td>\n",
              "      <td>-7095.269204</td>\n",
              "      <td>-4965.175946</td>\n",
              "      <td>0.182811</td>\n",
              "      <td>0.247788</td>\n",
              "      <td>-3785.063810</td>\n",
              "      <td>-4335.147954</td>\n",
              "      <td>-6194.955045</td>\n",
              "      <td>-5234.681105</td>\n",
              "      <td>-8567.521115</td>\n",
              "      <td>...</td>\n",
              "      <td>0.132186</td>\n",
              "      <td>0.309160</td>\n",
              "      <td>0.427564</td>\n",
              "      <td>0.354091</td>\n",
              "      <td>-14022.328504</td>\n",
              "      <td>0.216346</td>\n",
              "      <td>-5995.438444</td>\n",
              "      <td>-12243.044232</td>\n",
              "      <td>-7480.393855</td>\n",
              "      <td>0.299203</td>\n",
              "    </tr>\n",
              "    <tr>\n",
              "      <th>3</th>\n",
              "      <td>0.612704</td>\n",
              "      <td>-3744.932912</td>\n",
              "      <td>-1908.706472</td>\n",
              "      <td>0.097520</td>\n",
              "      <td>0.136570</td>\n",
              "      <td>-2758.358532</td>\n",
              "      <td>-2294.536289</td>\n",
              "      <td>-4501.941285</td>\n",
              "      <td>-2674.113111</td>\n",
              "      <td>-4364.443591</td>\n",
              "      <td>...</td>\n",
              "      <td>0.100592</td>\n",
              "      <td>0.322119</td>\n",
              "      <td>0.312281</td>\n",
              "      <td>0.267955</td>\n",
              "      <td>-7123.246872</td>\n",
              "      <td>0.164177</td>\n",
              "      <td>-2224.456866</td>\n",
              "      <td>-8563.154516</td>\n",
              "      <td>-5246.681115</td>\n",
              "      <td>0.159163</td>\n",
              "    </tr>\n",
              "    <tr>\n",
              "      <th>4</th>\n",
              "      <td>0.535276</td>\n",
              "      <td>-1122.099233</td>\n",
              "      <td>-477.663386</td>\n",
              "      <td>0.051920</td>\n",
              "      <td>0.036631</td>\n",
              "      <td>-755.260075</td>\n",
              "      <td>-600.633070</td>\n",
              "      <td>-1410.972511</td>\n",
              "      <td>-1590.465410</td>\n",
              "      <td>-2971.298294</td>\n",
              "      <td>...</td>\n",
              "      <td>0.024655</td>\n",
              "      <td>0.108203</td>\n",
              "      <td>0.227860</td>\n",
              "      <td>0.086051</td>\n",
              "      <td>-5550.962315</td>\n",
              "      <td>0.046061</td>\n",
              "      <td>-1264.843931</td>\n",
              "      <td>-6980.002306</td>\n",
              "      <td>-3736.229463</td>\n",
              "      <td>0.096997</td>\n",
              "    </tr>\n",
              "  </tbody>\n",
              "</table>\n",
              "<p>5 rows × 28 columns</p>\n",
              "</div>\n",
              "      <button class=\"colab-df-convert\" onclick=\"convertToInteractive('df-bf105e5e-4168-4fe3-99a6-732d43b9b3a6')\"\n",
              "              title=\"Convert this dataframe to an interactive table.\"\n",
              "              style=\"display:none;\">\n",
              "        \n",
              "  <svg xmlns=\"http://www.w3.org/2000/svg\" height=\"24px\"viewBox=\"0 0 24 24\"\n",
              "       width=\"24px\">\n",
              "    <path d=\"M0 0h24v24H0V0z\" fill=\"none\"/>\n",
              "    <path d=\"M18.56 5.44l.94 2.06.94-2.06 2.06-.94-2.06-.94-.94-2.06-.94 2.06-2.06.94zm-11 1L8.5 8.5l.94-2.06 2.06-.94-2.06-.94L8.5 2.5l-.94 2.06-2.06.94zm10 10l.94 2.06.94-2.06 2.06-.94-2.06-.94-.94-2.06-.94 2.06-2.06.94z\"/><path d=\"M17.41 7.96l-1.37-1.37c-.4-.4-.92-.59-1.43-.59-.52 0-1.04.2-1.43.59L10.3 9.45l-7.72 7.72c-.78.78-.78 2.05 0 2.83L4 21.41c.39.39.9.59 1.41.59.51 0 1.02-.2 1.41-.59l7.78-7.78 2.81-2.81c.8-.78.8-2.07 0-2.86zM5.41 20L4 18.59l7.72-7.72 1.47 1.35L5.41 20z\"/>\n",
              "  </svg>\n",
              "      </button>\n",
              "      \n",
              "  <style>\n",
              "    .colab-df-container {\n",
              "      display:flex;\n",
              "      flex-wrap:wrap;\n",
              "      gap: 12px;\n",
              "    }\n",
              "\n",
              "    .colab-df-convert {\n",
              "      background-color: #E8F0FE;\n",
              "      border: none;\n",
              "      border-radius: 50%;\n",
              "      cursor: pointer;\n",
              "      display: none;\n",
              "      fill: #1967D2;\n",
              "      height: 32px;\n",
              "      padding: 0 0 0 0;\n",
              "      width: 32px;\n",
              "    }\n",
              "\n",
              "    .colab-df-convert:hover {\n",
              "      background-color: #E2EBFA;\n",
              "      box-shadow: 0px 1px 2px rgba(60, 64, 67, 0.3), 0px 1px 3px 1px rgba(60, 64, 67, 0.15);\n",
              "      fill: #174EA6;\n",
              "    }\n",
              "\n",
              "    [theme=dark] .colab-df-convert {\n",
              "      background-color: #3B4455;\n",
              "      fill: #D2E3FC;\n",
              "    }\n",
              "\n",
              "    [theme=dark] .colab-df-convert:hover {\n",
              "      background-color: #434B5C;\n",
              "      box-shadow: 0px 1px 3px 1px rgba(0, 0, 0, 0.15);\n",
              "      filter: drop-shadow(0px 1px 2px rgba(0, 0, 0, 0.3));\n",
              "      fill: #FFFFFF;\n",
              "    }\n",
              "  </style>\n",
              "\n",
              "      <script>\n",
              "        const buttonEl =\n",
              "          document.querySelector('#df-bf105e5e-4168-4fe3-99a6-732d43b9b3a6 button.colab-df-convert');\n",
              "        buttonEl.style.display =\n",
              "          google.colab.kernel.accessAllowed ? 'block' : 'none';\n",
              "\n",
              "        async function convertToInteractive(key) {\n",
              "          const element = document.querySelector('#df-bf105e5e-4168-4fe3-99a6-732d43b9b3a6');\n",
              "          const dataTable =\n",
              "            await google.colab.kernel.invokeFunction('convertToInteractive',\n",
              "                                                     [key], {});\n",
              "          if (!dataTable) return;\n",
              "\n",
              "          const docLinkHtml = 'Like what you see? Visit the ' +\n",
              "            '<a target=\"_blank\" href=https://colab.research.google.com/notebooks/data_table.ipynb>data table notebook</a>'\n",
              "            + ' to learn more about interactive tables.';\n",
              "          element.innerHTML = '';\n",
              "          dataTable['output_type'] = 'display_data';\n",
              "          await google.colab.output.renderOutput(dataTable, element);\n",
              "          const docLink = document.createElement('div');\n",
              "          docLink.innerHTML = docLinkHtml;\n",
              "          element.appendChild(docLink);\n",
              "        }\n",
              "      </script>\n",
              "    </div>\n",
              "  </div>\n",
              "  "
            ]
          },
          "metadata": {},
          "execution_count": 61
        }
      ],
      "source": [
        "poly_interaction_test[selected_inter_variables].head()"
      ]
    },
    {
      "cell_type": "markdown",
      "metadata": {
        "id": "fMlasPj6Oepx"
      },
      "source": [
        "## Get a list of unselected columns that are to be dropped"
      ]
    },
    {
      "cell_type": "code",
      "execution_count": 62,
      "metadata": {
        "id": "6pqrKUGbOepy"
      },
      "outputs": [],
      "source": [
        "unselected_cols = [element for element in poly_interaction_train.columns if element not in selected_inter_variables]"
      ]
    },
    {
      "cell_type": "markdown",
      "metadata": {
        "collapsed": true,
        "id": "IbG58mLzOep0"
      },
      "source": [
        "##  Drop the unselected columns of the interaction dataframes on train and test both"
      ]
    },
    {
      "cell_type": "code",
      "execution_count": 63,
      "metadata": {
        "id": "WMZiavR1Oep1"
      },
      "outputs": [],
      "source": [
        "poly_interaction_train = poly_interaction_train.drop(unselected_cols,axis=1)"
      ]
    },
    {
      "cell_type": "code",
      "execution_count": 64,
      "metadata": {
        "id": "0K2SXewxOep2"
      },
      "outputs": [],
      "source": [
        "poly_interaction_test = poly_interaction_test.drop(list(set(unselected_cols).difference({'TARGET'})),axis=1)"
      ]
    },
    {
      "cell_type": "markdown",
      "metadata": {
        "id": "fnRpXPW8Oep4"
      },
      "source": [
        "#### Dropping columns 'EXT_SOURCE_2' and 'EXT_SOURCE_3' since they're already present in the source dataset"
      ]
    },
    {
      "cell_type": "code",
      "execution_count": 65,
      "metadata": {
        "id": "02b7X4v1Oep5"
      },
      "outputs": [],
      "source": [
        "train = train.join(poly_interaction_train.drop(['EXT_SOURCE_2', 'EXT_SOURCE_3'],axis=1))"
      ]
    },
    {
      "cell_type": "code",
      "execution_count": 66,
      "metadata": {
        "id": "_RKW0rZ5Oep6"
      },
      "outputs": [],
      "source": [
        "test = test.join(poly_interaction_test.drop(['EXT_SOURCE_2', 'EXT_SOURCE_3'],axis=1))"
      ]
    },
    {
      "cell_type": "code",
      "execution_count": 67,
      "metadata": {
        "colab": {
          "base_uri": "https://localhost:8080/"
        },
        "id": "tylxX61vOep7",
        "outputId": "8b0dcd39-615a-49fa-bd34-04c6ebc03502"
      },
      "outputs": [
        {
          "output_type": "stream",
          "name": "stdout",
          "text": [
            "The train dataset dimensions are as follows: (307511, 254)\n",
            "The test dataset dimensions are as follows: (48744, 253)\n"
          ]
        }
      ],
      "source": [
        "print(\"The train dataset dimensions are as follows: {}\".format(train.shape))\n",
        "print(\"The test dataset dimensions are as follows: {}\".format(test.shape))"
      ]
    },
    {
      "cell_type": "markdown",
      "metadata": {
        "id": "rrPVz7rXOep9"
      },
      "source": [
        "# Feature Engineering"
      ]
    },
    {
      "cell_type": "code",
      "execution_count": 68,
      "metadata": {
        "id": "cvQG1sqBOep-"
      },
      "outputs": [],
      "source": [
        "train['DIR'] = train['AMT_CREDIT']/train['AMT_INCOME_TOTAL']\n",
        "train['AIR'] = train['AMT_ANNUITY']/train['AMT_INCOME_TOTAL']\n",
        "train['ACR'] = train['AMT_ANNUITY']/train['AMT_CREDIT']\n",
        "train['DAR'] = train['DAYS_EMPLOYED']/train['DAYS_BIRTH']"
      ]
    },
    {
      "cell_type": "code",
      "execution_count": 69,
      "metadata": {
        "id": "ASpRgWHEOeqA"
      },
      "outputs": [],
      "source": [
        "test['DIR'] = test['AMT_CREDIT']/test['AMT_INCOME_TOTAL']\n",
        "test['AIR'] = test['AMT_ANNUITY']/test['AMT_INCOME_TOTAL']\n",
        "test['ACR'] = test['AMT_ANNUITY']/test['AMT_CREDIT']\n",
        "test['DAR'] = test['DAYS_EMPLOYED']/test['DAYS_BIRTH']"
      ]
    },
    {
      "cell_type": "code",
      "execution_count": 70,
      "metadata": {
        "id": "tE9m6MLdOeqB"
      },
      "outputs": [],
      "source": [
        "corr_vals = train.corr()['TARGET']"
      ]
    },
    {
      "cell_type": "code",
      "execution_count": 71,
      "metadata": {
        "colab": {
          "base_uri": "https://localhost:8080/"
        },
        "id": "ZzHV2cVIOeqD",
        "outputId": "0ed6663f-b1be-4f74-fd53-b3ab8537dc0b"
      },
      "outputs": [
        {
          "output_type": "execute_result",
          "data": {
            "text/plain": [
              "DIR   -0.007727\n",
              "AIR    0.014265\n",
              "ACR    0.012704\n",
              "DAR   -0.067955\n",
              "Name: TARGET, dtype: float64"
            ]
          },
          "metadata": {},
          "execution_count": 71
        }
      ],
      "source": [
        "corr_vals.tail(4)"
      ]
    },
    {
      "cell_type": "markdown",
      "metadata": {
        "id": "N0dK-Bc0OeqE"
      },
      "source": [
        "## Feature Imputing"
      ]
    },
    {
      "cell_type": "code",
      "execution_count": 72,
      "metadata": {
        "id": "HrZL8h18OeqG"
      },
      "outputs": [],
      "source": [
        "from sklearn.preprocessing import MinMaxScaler\n",
        "from sklearn.impute import SimpleImputer"
      ]
    },
    {
      "cell_type": "code",
      "execution_count": 73,
      "metadata": {
        "id": "YEucesPJOeqH"
      },
      "outputs": [],
      "source": [
        "features = list(set(train.columns).difference({'TARGET'}))"
      ]
    },
    {
      "cell_type": "code",
      "execution_count": 74,
      "metadata": {
        "id": "NjcxxhuYOeqI"
      },
      "outputs": [],
      "source": [
        "imputer = SimpleImputer(strategy=\"median\")"
      ]
    },
    {
      "cell_type": "markdown",
      "metadata": {
        "id": "6hvV-hKQOeqJ"
      },
      "source": [
        "## Feature Scaling"
      ]
    },
    {
      "cell_type": "code",
      "execution_count": 75,
      "metadata": {
        "id": "dcju-KqXOeqL"
      },
      "outputs": [],
      "source": [
        "scaler = MinMaxScaler(feature_range = (0, 1))"
      ]
    },
    {
      "cell_type": "code",
      "execution_count": 76,
      "metadata": {
        "colab": {
          "base_uri": "https://localhost:8080/"
        },
        "id": "Zo2ESFFnOeqM",
        "outputId": "5c298cd6-2d1a-47c9-c199-491e175a4d0b"
      },
      "outputs": [
        {
          "output_type": "execute_result",
          "data": {
            "text/plain": [
              "SimpleImputer(strategy='median')"
            ]
          },
          "metadata": {},
          "execution_count": 76
        }
      ],
      "source": [
        "imputer.fit(train.drop(['TARGET'],axis=1))"
      ]
    },
    {
      "cell_type": "code",
      "execution_count": 77,
      "metadata": {
        "id": "mRTgV0pUOeqN"
      },
      "outputs": [],
      "source": [
        "train_transformed = imputer.transform(train.drop(['TARGET'],axis=1))"
      ]
    },
    {
      "cell_type": "code",
      "execution_count": 78,
      "metadata": {
        "id": "kOCrW0JsOeqP"
      },
      "outputs": [],
      "source": [
        "test_transformed = imputer.transform(test)"
      ]
    },
    {
      "cell_type": "code",
      "execution_count": 79,
      "metadata": {
        "id": "6_gIXZUjOeqQ"
      },
      "outputs": [],
      "source": [
        "train_transformed = scaler.fit_transform(train_transformed)"
      ]
    },
    {
      "cell_type": "code",
      "execution_count": 80,
      "metadata": {
        "id": "xXVS2dTDOeqR"
      },
      "outputs": [],
      "source": [
        "test_transformed = scaler.transform(test_transformed)"
      ]
    },
    {
      "cell_type": "code",
      "execution_count": 81,
      "metadata": {
        "colab": {
          "base_uri": "https://localhost:8080/"
        },
        "id": "VfTujSifOeqT",
        "outputId": "d2409756-9831-4f9b-a60a-b6c9234bedef",
        "scrolled": true
      },
      "outputs": [
        {
          "output_type": "stream",
          "name": "stdout",
          "text": [
            "The train dataset dimensions are as follows: (307511, 257)\n",
            "The test dataset dimensions are as follows: (48744, 257)\n"
          ]
        }
      ],
      "source": [
        "print(\"The train dataset dimensions are as follows: {}\".format(train_transformed.shape))\n",
        "print(\"The test dataset dimensions are as follows: {}\".format(test_transformed.shape))"
      ]
    },
    {
      "cell_type": "markdown",
      "metadata": {
        "id": "Mqiwr6upTJI8"
      },
      "source": [
        "# Handling data imbalance: SMOTE"
      ]
    },
    {
      "cell_type": "code",
      "execution_count": 82,
      "metadata": {
        "id": "BCDFCZO8OeqU"
      },
      "outputs": [],
      "source": [
        "from collections import Counter\n",
        "from sklearn.datasets import make_classification\n",
        "from imblearn.over_sampling import SMOTE "
      ]
    },
    {
      "cell_type": "code",
      "execution_count": 83,
      "metadata": {
        "colab": {
          "base_uri": "https://localhost:8080/"
        },
        "id": "KiwfxzHYOeqW",
        "outputId": "107de88e-d46b-4c84-c2a0-792c1a944882"
      },
      "outputs": [
        {
          "output_type": "stream",
          "name": "stdout",
          "text": [
            "Original dataset shape Counter({0: 282686, 1: 24825})\n"
          ]
        }
      ],
      "source": [
        "# Split target\n",
        "X = train_transformed\n",
        "y = target\n",
        "print('Original dataset shape %s' % Counter(y))"
      ]
    },
    {
      "cell_type": "code",
      "execution_count": 84,
      "metadata": {
        "id": "OePrjG48OeqX"
      },
      "outputs": [],
      "source": [
        "sm = SMOTE(random_state=42)\n",
        "X_res, y_res = sm.fit_resample(X, y)"
      ]
    },
    {
      "cell_type": "code",
      "execution_count": 85,
      "metadata": {
        "colab": {
          "base_uri": "https://localhost:8080/"
        },
        "id": "CPkWNk37OeqZ",
        "outputId": "9243c2d8-8a77-4507-cbfe-9691ce750864"
      },
      "outputs": [
        {
          "output_type": "stream",
          "name": "stdout",
          "text": [
            "Dataset shape Counter({1: 282686, 0: 282686})\n"
          ]
        }
      ],
      "source": [
        "print('Dataset shape %s' % Counter(y_res))"
      ]
    },
    {
      "cell_type": "markdown",
      "metadata": {
        "id": "wv_rp-yp6Jg2"
      },
      "source": [
        "# Modelling and evaluation"
      ]
    },
    {
      "cell_type": "markdown",
      "metadata": {
        "id": "C3H8OvtjOeqa"
      },
      "source": [
        "## Split the dataset into training set and validation set"
      ]
    },
    {
      "cell_type": "code",
      "execution_count": 86,
      "metadata": {
        "id": "65skaJ_kOeqc"
      },
      "outputs": [],
      "source": [
        "from sklearn.model_selection import train_test_split\n",
        "\n",
        "X_training_set, X_validation_set, y_training_set, y_validation_set = train_test_split(X_res, \n",
        "                                                                                      y_res, test_size=0.33, random_state=42)"
      ]
    },
    {
      "cell_type": "markdown",
      "metadata": {
        "id": "vmqKyC6EOeqe"
      },
      "source": [
        "## Logistic Regression"
      ]
    },
    {
      "cell_type": "code",
      "source": [
        "# example of grid searching key hyperparametres for logistic regression\n",
        "from sklearn.datasets import make_blobs\n",
        "from sklearn.model_selection import RepeatedStratifiedKFold\n",
        "from sklearn.model_selection import GridSearchCV\n",
        "from sklearn.linear_model import LogisticRegression\n",
        "from sklearn.metrics import ConfusionMatrixDisplay"
      ],
      "metadata": {
        "id": "QqhKNByS3-D1"
      },
      "execution_count": 91,
      "outputs": []
    },
    {
      "cell_type": "code",
      "source": [
        "model = LogisticRegression()\n",
        "solvers = ['newton-cg', 'lbfgs', 'liblinear']\n",
        "penalty = ['l2']\n",
        "c_values = [100, 10, 1.0, 0.1, 0.01]\n",
        "grid = dict(solver=solvers,penalty=penalty,C=c_values)\n",
        "cv = RepeatedStratifiedKFold(n_splits=10, n_repeats=3, random_state=1)\n",
        "grid_search = GridSearchCV(estimator=model, param_grid=grid, n_jobs=-1, cv=cv, scoring='accuracy',error_score=0)\n",
        "grid_result = grid_search.fit(X_training_set, y_training_set)"
      ],
      "metadata": {
        "id": "Eo7r1i0J4Dh8"
      },
      "execution_count": 92,
      "outputs": []
    },
    {
      "cell_type": "code",
      "source": [
        "print(\"Best: %f using %s\" % (grid_result.best_score_, grid_result.best_params_))\n",
        "means = grid_result.cv_results_['mean_test_score']\n",
        "stds = grid_result.cv_results_['std_test_score']\n",
        "params = grid_result.cv_results_['params']\n",
        "for mean, stdev, param in zip(means, stds, params):\n",
        "    print(\"%f (%f) with: %r\" % (mean, stdev, param))"
      ],
      "metadata": {
        "id": "5SRxeyq-30pk"
      },
      "execution_count": 93,
      "outputs": []
    },
    {
      "cell_type": "code",
      "execution_count": 94,
      "metadata": {
        "id": "K1Pj2uIWOeqf"
      },
      "outputs": [],
      "source": [
        "# Chọn được siêu tham số tốt nhất cho mô hình để đào tạo và dự báo \n",
        "logistic_regressor = LogisticRegression(penalty='l2', C=0.01, solver='lbfgs')"
      ]
    },
    {
      "cell_type": "code",
      "execution_count": 95,
      "metadata": {
        "id": "2wqjQugJOeqh",
        "scrolled": true
      },
      "outputs": [],
      "source": [
        "logistic_regressor.fit(X_training_set,y_training_set)"
      ]
    },
    {
      "cell_type": "code",
      "execution_count": 96,
      "metadata": {
        "id": "ixZMUPXSOeqj"
      },
      "outputs": [],
      "source": [
        "log_regression_pred = logistic_regressor.predict(X_validation_set)"
      ]
    },
    {
      "cell_type": "code",
      "execution_count": 97,
      "metadata": {
        "id": "5Lr2-7m8Oeqk"
      },
      "outputs": [],
      "source": [
        "pd.DataFrame({'target':log_regression_pred})['target'].value_counts()"
      ]
    },
    {
      "cell_type": "code",
      "execution_count": 98,
      "metadata": {
        "id": "SQTzRGciOeqm"
      },
      "outputs": [],
      "source": [
        "from sklearn.metrics import accuracy_score,classification_report, roc_auc_score\n",
        "print(\"The accuracy in general is : \", accuracy_score(y_validation_set,log_regression_pred))\n",
        "print(\"\\n\")\n",
        "print(\"The classification report is as follows:\\n\", classification_report(y_validation_set,log_regression_pred))\n",
        "print(\"ROC AUC score is: \",roc_auc_score(y_validation_set,log_regression_pred))"
      ]
    },
    {
      "cell_type": "code",
      "source": [
        "ConfusionMatrixDisplay.from_predictions(y_validation_set, log_regression_pred, labels=logistic_regressor.classes_)"
      ],
      "metadata": {
        "id": "amhId-qKqXWN"
      },
      "execution_count": 99,
      "outputs": []
    },
    {
      "cell_type": "markdown",
      "metadata": {
        "id": "4eFMZSQp6JhF"
      },
      "source": [
        "# Tài liệu tham khảo \n",
        "\n",
        "[1]. Pamela Foohey; Sara Sternberg Greene, (2021), “Credit Scoring Duality”, SSRN Electronic Journal, DOI:10.2139/ssrn.3992749.\n",
        "\n",
        "[2]. Sabato; Gabriele, (2010), “Credit Risk Scoring Models”, Available at SSRN: https://ssrn.com/abstract=1546347.\n",
        "\n",
        "[3]. Benai Kumar, (2020), “10 Techniques to deal with Imbalanced Classes in Machine Learning”, https://www.analyticsvidhya.com/blog/2020/07/10-techniques-to-deal-with-class-imbalance-in-machine-learning/.\n",
        "\n",
        "[4]. Dina Elreedy; Amir F. Atiya, (2019), “A Comprehensive Analysis of Synthetic Minority Oversampling Technique (SMOTE) for handling class imbalance”, Information Sciences.\n",
        "\n",
        "[5]. Goedele Dierckx, (2020), “Logistic regression model”, Encyclopedia of Actuarial Science, DOI:10.1002/9780470012505.tal017.\n",
        "\n",
        "[6]. Peter Calhoun; Xiaogang Su; Kelly M. Spoon; Richard A Levine, (2021), Random Forest, Wiley StatsRef: Statistics Reference Online (pp.1-20).\n",
        "\n",
        "[7]. Hua Li; Yumeng Cao; Siwen Li; Jianbin Zhao, (2020), “XGBoost Model and Its Application to Personal Credit Evaluation”, Intelligent Systems, IEEE PP(99):1-1.\n",
        "\n",
        "[8]. Godwin Ponsam; S.V. Juno Bella Gracia; G. Geetha; S. Karpaselvi, (2021), “Credit Risk Analysis using LightGBM and a comparative study of popular algorithms”, Conference: 2021 4th International Conference on Computing and Communications Technologies (ICCCT).\n",
        "\n",
        "[9]. Dingling Ge; Jianyang Gu; Shunyu Chang; JingHui Cai, (2020), “Credit Card Fraud Detection Using Lightgbm Model”, Conference: 2020 International Conference on E-Commerce and Internet Technology (ECIT).\n",
        "\n",
        "[10]. Baichuan Liu; Likun Lu; Zeng Qingtao; Yeli Li, (2021), “Implementation of credit scoring card model based on logistic regression and lightgbm”, Conference: 2021 International Conference on Control Science and Electric Power Systems (CSEPS).\n",
        "\n",
        "[11]. Vũ Hữu Tiệp, (2020), “Machine learning cơ bản”, Nhà xuất bản khoa học và kĩ thuật.\n"
      ]
    }
  ],
  "metadata": {
    "accelerator": "GPU",
    "colab": {
      "collapsed_sections": [],
      "provenance": []
    },
    "kernelspec": {
      "display_name": "Python 3 (ipykernel)",
      "language": "python",
      "name": "python3"
    },
    "language_info": {
      "codemirror_mode": {
        "name": "ipython",
        "version": 3
      },
      "file_extension": ".py",
      "mimetype": "text/x-python",
      "name": "python",
      "nbconvert_exporter": "python",
      "pygments_lexer": "ipython3",
      "version": "3.7.11"
    }
  },
  "nbformat": 4,
  "nbformat_minor": 0
}
